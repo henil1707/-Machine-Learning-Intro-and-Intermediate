{
 "cells": [
  {
   "cell_type": "markdown",
   "id": "33ba3b87",
   "metadata": {
    "papermill": {
     "duration": 0.006312,
     "end_time": "2022-10-19T07:05:58.239950",
     "exception": false,
     "start_time": "2022-10-19T07:05:58.233638",
     "status": "completed"
    },
    "tags": []
   },
   "source": [
    "**This notebook is an exercise in the [Introduction to Machine Learning](https://www.kaggle.com/learn/intro-to-machine-learning) course.  You can reference the tutorial at [this link](https://www.kaggle.com/dansbecker/your-first-machine-learning-model).**\n",
    "\n",
    "---\n"
   ]
  },
  {
   "cell_type": "markdown",
   "id": "3a1542d2",
   "metadata": {
    "papermill": {
     "duration": 0.004796,
     "end_time": "2022-10-19T07:05:58.250227",
     "exception": false,
     "start_time": "2022-10-19T07:05:58.245431",
     "status": "completed"
    },
    "tags": []
   },
   "source": [
    "## Recap\n",
    "So far, you have loaded your data and reviewed it with the following code. Run this cell to set up your coding environment where the previous step left off."
   ]
  },
  {
   "cell_type": "code",
   "execution_count": 1,
   "id": "db748118",
   "metadata": {
    "execution": {
     "iopub.execute_input": "2022-10-19T07:05:58.263133Z",
     "iopub.status.busy": "2022-10-19T07:05:58.262356Z",
     "iopub.status.idle": "2022-10-19T07:05:59.815130Z",
     "shell.execute_reply": "2022-10-19T07:05:59.813752Z"
    },
    "papermill": {
     "duration": 1.563232,
     "end_time": "2022-10-19T07:05:59.818680",
     "exception": false,
     "start_time": "2022-10-19T07:05:58.255448",
     "status": "completed"
    },
    "tags": []
   },
   "outputs": [
    {
     "name": "stdout",
     "output_type": "stream",
     "text": [
      "Setup Complete\n"
     ]
    }
   ],
   "source": [
    "# Code you have previously used to load data\n",
    "import pandas as pd\n",
    "\n",
    "# Path of the file to read\n",
    "iowa_file_path = '../input/home-data-for-ml-course/train.csv'\n",
    "\n",
    "home_data = pd.read_csv(iowa_file_path)\n",
    "\n",
    "# Set up code checking\n",
    "from learntools.core import binder\n",
    "binder.bind(globals())\n",
    "from learntools.machine_learning.ex3 import *\n",
    "\n",
    "print(\"Setup Complete\")"
   ]
  },
  {
   "cell_type": "markdown",
   "id": "41777fc3",
   "metadata": {
    "papermill": {
     "duration": 0.005138,
     "end_time": "2022-10-19T07:05:59.829968",
     "exception": false,
     "start_time": "2022-10-19T07:05:59.824830",
     "status": "completed"
    },
    "tags": []
   },
   "source": [
    "# Exercises\n",
    "\n",
    "## Step 1: Specify Prediction Target\n",
    "Select the target variable, which corresponds to the sales price. Save this to a new variable called `y`. You'll need to print a list of the columns to find the name of the column you need.\n"
   ]
  },
  {
   "cell_type": "code",
   "execution_count": 2,
   "id": "c2ee1943",
   "metadata": {
    "execution": {
     "iopub.execute_input": "2022-10-19T07:05:59.842405Z",
     "iopub.status.busy": "2022-10-19T07:05:59.841980Z",
     "iopub.status.idle": "2022-10-19T07:05:59.852747Z",
     "shell.execute_reply": "2022-10-19T07:05:59.851302Z"
    },
    "papermill": {
     "duration": 0.020353,
     "end_time": "2022-10-19T07:05:59.855657",
     "exception": false,
     "start_time": "2022-10-19T07:05:59.835304",
     "status": "completed"
    },
    "tags": []
   },
   "outputs": [
    {
     "data": {
      "text/plain": [
       "Index(['Id', 'MSSubClass', 'MSZoning', 'LotFrontage', 'LotArea', 'Street',\n",
       "       'Alley', 'LotShape', 'LandContour', 'Utilities', 'LotConfig',\n",
       "       'LandSlope', 'Neighborhood', 'Condition1', 'Condition2', 'BldgType',\n",
       "       'HouseStyle', 'OverallQual', 'OverallCond', 'YearBuilt', 'YearRemodAdd',\n",
       "       'RoofStyle', 'RoofMatl', 'Exterior1st', 'Exterior2nd', 'MasVnrType',\n",
       "       'MasVnrArea', 'ExterQual', 'ExterCond', 'Foundation', 'BsmtQual',\n",
       "       'BsmtCond', 'BsmtExposure', 'BsmtFinType1', 'BsmtFinSF1',\n",
       "       'BsmtFinType2', 'BsmtFinSF2', 'BsmtUnfSF', 'TotalBsmtSF', 'Heating',\n",
       "       'HeatingQC', 'CentralAir', 'Electrical', '1stFlrSF', '2ndFlrSF',\n",
       "       'LowQualFinSF', 'GrLivArea', 'BsmtFullBath', 'BsmtHalfBath', 'FullBath',\n",
       "       'HalfBath', 'BedroomAbvGr', 'KitchenAbvGr', 'KitchenQual',\n",
       "       'TotRmsAbvGrd', 'Functional', 'Fireplaces', 'FireplaceQu', 'GarageType',\n",
       "       'GarageYrBlt', 'GarageFinish', 'GarageCars', 'GarageArea', 'GarageQual',\n",
       "       'GarageCond', 'PavedDrive', 'WoodDeckSF', 'OpenPorchSF',\n",
       "       'EnclosedPorch', '3SsnPorch', 'ScreenPorch', 'PoolArea', 'PoolQC',\n",
       "       'Fence', 'MiscFeature', 'MiscVal', 'MoSold', 'YrSold', 'SaleType',\n",
       "       'SaleCondition', 'SalePrice'],\n",
       "      dtype='object')"
      ]
     },
     "execution_count": 2,
     "metadata": {},
     "output_type": "execute_result"
    }
   ],
   "source": [
    "# print the list of columns in the dataset to find the name of the prediction target\n",
    "home_data.columns"
   ]
  },
  {
   "cell_type": "code",
   "execution_count": 3,
   "id": "6077639f",
   "metadata": {
    "execution": {
     "iopub.execute_input": "2022-10-19T07:05:59.868751Z",
     "iopub.status.busy": "2022-10-19T07:05:59.868334Z",
     "iopub.status.idle": "2022-10-19T07:05:59.884177Z",
     "shell.execute_reply": "2022-10-19T07:05:59.883024Z"
    },
    "papermill": {
     "duration": 0.025247,
     "end_time": "2022-10-19T07:05:59.886641",
     "exception": false,
     "start_time": "2022-10-19T07:05:59.861394",
     "status": "completed"
    },
    "tags": []
   },
   "outputs": [
    {
     "data": {
      "application/javascript": [
       "parent.postMessage({\"jupyterEvent\": \"custom.exercise_interaction\", \"data\": {\"outcomeType\": 1, \"valueTowardsCompletion\": 0.25, \"interactionType\": 1, \"questionType\": 2, \"questionId\": \"1_SetTarget\", \"learnToolsVersion\": \"0.3.4\", \"failureMessage\": \"\", \"exceptionClass\": \"\", \"trace\": \"\"}}, \"*\")"
      ],
      "text/plain": [
       "<IPython.core.display.Javascript object>"
      ]
     },
     "metadata": {},
     "output_type": "display_data"
    },
    {
     "data": {
      "text/markdown": [
       "<span style=\"color:#33cc33\">Correct</span>"
      ],
      "text/plain": [
       "Correct"
      ]
     },
     "metadata": {},
     "output_type": "display_data"
    }
   ],
   "source": [
    "y = home_data.SalePrice\n",
    "\n",
    "# Check your answer\n",
    "step_1.check()"
   ]
  },
  {
   "cell_type": "code",
   "execution_count": 4,
   "id": "cce45b18",
   "metadata": {
    "execution": {
     "iopub.execute_input": "2022-10-19T07:05:59.900596Z",
     "iopub.status.busy": "2022-10-19T07:05:59.899830Z",
     "iopub.status.idle": "2022-10-19T07:05:59.904156Z",
     "shell.execute_reply": "2022-10-19T07:05:59.903024Z"
    },
    "papermill": {
     "duration": 0.014161,
     "end_time": "2022-10-19T07:05:59.906694",
     "exception": false,
     "start_time": "2022-10-19T07:05:59.892533",
     "status": "completed"
    },
    "tags": []
   },
   "outputs": [],
   "source": [
    "# The lines below will show you a hint or the solution.\n",
    "# step_1.hint() \n",
    "# step_1.solution()"
   ]
  },
  {
   "cell_type": "markdown",
   "id": "67c2397c",
   "metadata": {
    "papermill": {
     "duration": 0.005314,
     "end_time": "2022-10-19T07:05:59.918051",
     "exception": false,
     "start_time": "2022-10-19T07:05:59.912737",
     "status": "completed"
    },
    "tags": []
   },
   "source": [
    "## Step 2: Create X\n",
    "Now you will create a DataFrame called `X` holding the predictive features.\n",
    "\n",
    "Since you want only some columns from the original data, you'll first create a list with the names of the columns you want in `X`.\n",
    "\n",
    "You'll use just the following columns in the list (you can copy and paste the whole list to save some typing, though you'll still need to add quotes):\n",
    "  * LotArea\n",
    "  * YearBuilt\n",
    "  * 1stFlrSF\n",
    "  * 2ndFlrSF\n",
    "  * FullBath\n",
    "  * BedroomAbvGr\n",
    "  * TotRmsAbvGrd\n",
    "\n",
    "After you've created that list of features, use it to create the DataFrame that you'll use to fit the model."
   ]
  },
  {
   "cell_type": "code",
   "execution_count": 5,
   "id": "ed9434f1",
   "metadata": {
    "execution": {
     "iopub.execute_input": "2022-10-19T07:05:59.931616Z",
     "iopub.status.busy": "2022-10-19T07:05:59.930865Z",
     "iopub.status.idle": "2022-10-19T07:05:59.946250Z",
     "shell.execute_reply": "2022-10-19T07:05:59.944795Z"
    },
    "papermill": {
     "duration": 0.025195,
     "end_time": "2022-10-19T07:05:59.948860",
     "exception": false,
     "start_time": "2022-10-19T07:05:59.923665",
     "status": "completed"
    },
    "tags": []
   },
   "outputs": [
    {
     "data": {
      "application/javascript": [
       "parent.postMessage({\"jupyterEvent\": \"custom.exercise_interaction\", \"data\": {\"outcomeType\": 1, \"valueTowardsCompletion\": 0.25, \"interactionType\": 1, \"questionType\": 2, \"questionId\": \"2_SelectPredictionData\", \"learnToolsVersion\": \"0.3.4\", \"failureMessage\": \"\", \"exceptionClass\": \"\", \"trace\": \"\"}}, \"*\")"
      ],
      "text/plain": [
       "<IPython.core.display.Javascript object>"
      ]
     },
     "metadata": {},
     "output_type": "display_data"
    },
    {
     "data": {
      "text/markdown": [
       "<span style=\"color:#33cc33\">Correct</span>"
      ],
      "text/plain": [
       "Correct"
      ]
     },
     "metadata": {},
     "output_type": "display_data"
    }
   ],
   "source": [
    "# Create the list of features below\n",
    "feature_names = [ 'LotArea','YearBuilt','1stFlrSF','2ndFlrSF','FullBath','BedroomAbvGr','TotRmsAbvGrd']\n",
    "\n",
    "# Select data corresponding to features in feature_names\n",
    "X = home_data[feature_names]\n",
    "\n",
    "# Check your answer\n",
    "step_2.check()"
   ]
  },
  {
   "cell_type": "code",
   "execution_count": 6,
   "id": "f6d486fd",
   "metadata": {
    "execution": {
     "iopub.execute_input": "2022-10-19T07:05:59.963148Z",
     "iopub.status.busy": "2022-10-19T07:05:59.962145Z",
     "iopub.status.idle": "2022-10-19T07:05:59.966693Z",
     "shell.execute_reply": "2022-10-19T07:05:59.965774Z"
    },
    "papermill": {
     "duration": 0.014124,
     "end_time": "2022-10-19T07:05:59.968972",
     "exception": false,
     "start_time": "2022-10-19T07:05:59.954848",
     "status": "completed"
    },
    "tags": []
   },
   "outputs": [],
   "source": [
    "# step_2.hint()\n",
    "# step_2.solution()"
   ]
  },
  {
   "cell_type": "markdown",
   "id": "5f6dd812",
   "metadata": {
    "papermill": {
     "duration": 0.005579,
     "end_time": "2022-10-19T07:05:59.980510",
     "exception": false,
     "start_time": "2022-10-19T07:05:59.974931",
     "status": "completed"
    },
    "tags": []
   },
   "source": [
    "## Review Data\n",
    "Before building a model, take a quick look at **X** to verify it looks sensible"
   ]
  },
  {
   "cell_type": "code",
   "execution_count": 7,
   "id": "d48c2034",
   "metadata": {
    "execution": {
     "iopub.execute_input": "2022-10-19T07:05:59.995578Z",
     "iopub.status.busy": "2022-10-19T07:05:59.994781Z",
     "iopub.status.idle": "2022-10-19T07:06:00.019261Z",
     "shell.execute_reply": "2022-10-19T07:06:00.017601Z"
    },
    "papermill": {
     "duration": 0.034574,
     "end_time": "2022-10-19T07:06:00.022003",
     "exception": false,
     "start_time": "2022-10-19T07:05:59.987429",
     "status": "completed"
    },
    "tags": []
   },
   "outputs": [
    {
     "name": "stdout",
     "output_type": "stream",
     "text": [
      "<bound method NDFrame.describe of       LotArea  YearBuilt  1stFlrSF  2ndFlrSF  FullBath  BedroomAbvGr  \\\n",
      "0        8450       2003       856       854         2             3   \n",
      "1        9600       1976      1262         0         2             3   \n",
      "2       11250       2001       920       866         2             3   \n",
      "3        9550       1915       961       756         1             3   \n",
      "4       14260       2000      1145      1053         2             4   \n",
      "...       ...        ...       ...       ...       ...           ...   \n",
      "1455     7917       1999       953       694         2             3   \n",
      "1456    13175       1978      2073         0         2             3   \n",
      "1457     9042       1941      1188      1152         2             4   \n",
      "1458     9717       1950      1078         0         1             2   \n",
      "1459     9937       1965      1256         0         1             3   \n",
      "\n",
      "      TotRmsAbvGrd  \n",
      "0                8  \n",
      "1                6  \n",
      "2                6  \n",
      "3                7  \n",
      "4                9  \n",
      "...            ...  \n",
      "1455             7  \n",
      "1456             7  \n",
      "1457             9  \n",
      "1458             5  \n",
      "1459             6  \n",
      "\n",
      "[1460 rows x 7 columns]>\n"
     ]
    },
    {
     "data": {
      "text/html": [
       "<div>\n",
       "<style scoped>\n",
       "    .dataframe tbody tr th:only-of-type {\n",
       "        vertical-align: middle;\n",
       "    }\n",
       "\n",
       "    .dataframe tbody tr th {\n",
       "        vertical-align: top;\n",
       "    }\n",
       "\n",
       "    .dataframe thead th {\n",
       "        text-align: right;\n",
       "    }\n",
       "</style>\n",
       "<table border=\"1\" class=\"dataframe\">\n",
       "  <thead>\n",
       "    <tr style=\"text-align: right;\">\n",
       "      <th></th>\n",
       "      <th>LotArea</th>\n",
       "      <th>YearBuilt</th>\n",
       "      <th>1stFlrSF</th>\n",
       "      <th>2ndFlrSF</th>\n",
       "      <th>FullBath</th>\n",
       "      <th>BedroomAbvGr</th>\n",
       "      <th>TotRmsAbvGrd</th>\n",
       "    </tr>\n",
       "  </thead>\n",
       "  <tbody>\n",
       "    <tr>\n",
       "      <th>0</th>\n",
       "      <td>8450</td>\n",
       "      <td>2003</td>\n",
       "      <td>856</td>\n",
       "      <td>854</td>\n",
       "      <td>2</td>\n",
       "      <td>3</td>\n",
       "      <td>8</td>\n",
       "    </tr>\n",
       "    <tr>\n",
       "      <th>1</th>\n",
       "      <td>9600</td>\n",
       "      <td>1976</td>\n",
       "      <td>1262</td>\n",
       "      <td>0</td>\n",
       "      <td>2</td>\n",
       "      <td>3</td>\n",
       "      <td>6</td>\n",
       "    </tr>\n",
       "    <tr>\n",
       "      <th>2</th>\n",
       "      <td>11250</td>\n",
       "      <td>2001</td>\n",
       "      <td>920</td>\n",
       "      <td>866</td>\n",
       "      <td>2</td>\n",
       "      <td>3</td>\n",
       "      <td>6</td>\n",
       "    </tr>\n",
       "    <tr>\n",
       "      <th>3</th>\n",
       "      <td>9550</td>\n",
       "      <td>1915</td>\n",
       "      <td>961</td>\n",
       "      <td>756</td>\n",
       "      <td>1</td>\n",
       "      <td>3</td>\n",
       "      <td>7</td>\n",
       "    </tr>\n",
       "    <tr>\n",
       "      <th>4</th>\n",
       "      <td>14260</td>\n",
       "      <td>2000</td>\n",
       "      <td>1145</td>\n",
       "      <td>1053</td>\n",
       "      <td>2</td>\n",
       "      <td>4</td>\n",
       "      <td>9</td>\n",
       "    </tr>\n",
       "  </tbody>\n",
       "</table>\n",
       "</div>"
      ],
      "text/plain": [
       "   LotArea  YearBuilt  1stFlrSF  2ndFlrSF  FullBath  BedroomAbvGr  \\\n",
       "0     8450       2003       856       854         2             3   \n",
       "1     9600       1976      1262         0         2             3   \n",
       "2    11250       2001       920       866         2             3   \n",
       "3     9550       1915       961       756         1             3   \n",
       "4    14260       2000      1145      1053         2             4   \n",
       "\n",
       "   TotRmsAbvGrd  \n",
       "0             8  \n",
       "1             6  \n",
       "2             6  \n",
       "3             7  \n",
       "4             9  "
      ]
     },
     "execution_count": 7,
     "metadata": {},
     "output_type": "execute_result"
    }
   ],
   "source": [
    "# Review data\n",
    "# print description or statistics from X\n",
    "print(X.describe)\n",
    "\n",
    "# print the top few lines\n",
    "X.head()"
   ]
  },
  {
   "cell_type": "markdown",
   "id": "df5d7a4e",
   "metadata": {
    "papermill": {
     "duration": 0.005722,
     "end_time": "2022-10-19T07:06:00.033976",
     "exception": false,
     "start_time": "2022-10-19T07:06:00.028254",
     "status": "completed"
    },
    "tags": []
   },
   "source": [
    "## Step 3: Specify and Fit Model\n",
    "Create a `DecisionTreeRegressor` and save it iowa_model. Ensure you've done the relevant import from sklearn to run this command.\n",
    "\n",
    "Then fit the model you just created using the data in `X` and `y` that you saved above."
   ]
  },
  {
   "cell_type": "code",
   "execution_count": 8,
   "id": "43ca176d",
   "metadata": {
    "execution": {
     "iopub.execute_input": "2022-10-19T07:06:00.048943Z",
     "iopub.status.busy": "2022-10-19T07:06:00.048277Z",
     "iopub.status.idle": "2022-10-19T07:06:00.068401Z",
     "shell.execute_reply": "2022-10-19T07:06:00.067149Z"
    },
    "papermill": {
     "duration": 0.030645,
     "end_time": "2022-10-19T07:06:00.070709",
     "exception": false,
     "start_time": "2022-10-19T07:06:00.040064",
     "status": "completed"
    },
    "tags": []
   },
   "outputs": [
    {
     "data": {
      "application/javascript": [
       "parent.postMessage({\"jupyterEvent\": \"custom.exercise_interaction\", \"data\": {\"outcomeType\": 1, \"valueTowardsCompletion\": 0.25, \"interactionType\": 1, \"questionType\": 2, \"questionId\": \"3_CreateModel\", \"learnToolsVersion\": \"0.3.4\", \"failureMessage\": \"\", \"exceptionClass\": \"\", \"trace\": \"\"}}, \"*\")"
      ],
      "text/plain": [
       "<IPython.core.display.Javascript object>"
      ]
     },
     "metadata": {},
     "output_type": "display_data"
    },
    {
     "data": {
      "text/markdown": [
       "<span style=\"color:#33cc33\">Correct</span>"
      ],
      "text/plain": [
       "Correct"
      ]
     },
     "metadata": {},
     "output_type": "display_data"
    }
   ],
   "source": [
    "from sklearn.tree import DecisionTreeRegressor\n",
    "#specify the model. \n",
    "#For model reproducibility, set a numeric value for random_state when specifying the model\n",
    "iowa_model = DecisionTreeRegressor(random_state=1)\n",
    "\n",
    "# Fit the model\n",
    "iowa_model.fit(X,y)\n",
    "\n",
    "# Check your answer\n",
    "step_3.check()"
   ]
  },
  {
   "cell_type": "code",
   "execution_count": 9,
   "id": "8d53ba60",
   "metadata": {
    "execution": {
     "iopub.execute_input": "2022-10-19T07:06:00.085748Z",
     "iopub.status.busy": "2022-10-19T07:06:00.085029Z",
     "iopub.status.idle": "2022-10-19T07:06:00.089922Z",
     "shell.execute_reply": "2022-10-19T07:06:00.088678Z"
    },
    "papermill": {
     "duration": 0.015168,
     "end_time": "2022-10-19T07:06:00.092327",
     "exception": false,
     "start_time": "2022-10-19T07:06:00.077159",
     "status": "completed"
    },
    "tags": []
   },
   "outputs": [],
   "source": [
    "# step_3.hint()\n",
    "# step_3.solution()"
   ]
  },
  {
   "cell_type": "markdown",
   "id": "6a53dd73",
   "metadata": {
    "papermill": {
     "duration": 0.005996,
     "end_time": "2022-10-19T07:06:00.104822",
     "exception": false,
     "start_time": "2022-10-19T07:06:00.098826",
     "status": "completed"
    },
    "tags": []
   },
   "source": [
    "## Step 4: Make Predictions\n",
    "Make predictions with the model's `predict` command using `X` as the data. Save the results to a variable called `predictions`."
   ]
  },
  {
   "cell_type": "code",
   "execution_count": 10,
   "id": "5ccda25c",
   "metadata": {
    "execution": {
     "iopub.execute_input": "2022-10-19T07:06:00.119466Z",
     "iopub.status.busy": "2022-10-19T07:06:00.119047Z",
     "iopub.status.idle": "2022-10-19T07:06:00.133879Z",
     "shell.execute_reply": "2022-10-19T07:06:00.132607Z"
    },
    "papermill": {
     "duration": 0.025056,
     "end_time": "2022-10-19T07:06:00.136311",
     "exception": false,
     "start_time": "2022-10-19T07:06:00.111255",
     "status": "completed"
    },
    "tags": []
   },
   "outputs": [
    {
     "name": "stdout",
     "output_type": "stream",
     "text": [
      "[208500. 181500. 223500. ... 266500. 142125. 147500.]\n"
     ]
    },
    {
     "data": {
      "application/javascript": [
       "parent.postMessage({\"jupyterEvent\": \"custom.exercise_interaction\", \"data\": {\"outcomeType\": 1, \"valueTowardsCompletion\": 0.25, \"interactionType\": 1, \"questionType\": 2, \"questionId\": \"4_MakePredictions\", \"learnToolsVersion\": \"0.3.4\", \"failureMessage\": \"\", \"exceptionClass\": \"\", \"trace\": \"\"}}, \"*\")"
      ],
      "text/plain": [
       "<IPython.core.display.Javascript object>"
      ]
     },
     "metadata": {},
     "output_type": "display_data"
    },
    {
     "data": {
      "text/markdown": [
       "<span style=\"color:#33cc33\">Correct</span>"
      ],
      "text/plain": [
       "Correct"
      ]
     },
     "metadata": {},
     "output_type": "display_data"
    }
   ],
   "source": [
    "predictions = iowa_model.predict(X)\n",
    "print(predictions)\n",
    "\n",
    "# Check your answer\n",
    "step_4.check()"
   ]
  },
  {
   "cell_type": "code",
   "execution_count": 11,
   "id": "c891ed74",
   "metadata": {
    "execution": {
     "iopub.execute_input": "2022-10-19T07:06:00.151706Z",
     "iopub.status.busy": "2022-10-19T07:06:00.151297Z",
     "iopub.status.idle": "2022-10-19T07:06:00.156766Z",
     "shell.execute_reply": "2022-10-19T07:06:00.155323Z"
    },
    "papermill": {
     "duration": 0.016419,
     "end_time": "2022-10-19T07:06:00.159339",
     "exception": false,
     "start_time": "2022-10-19T07:06:00.142920",
     "status": "completed"
    },
    "tags": []
   },
   "outputs": [],
   "source": [
    "# step_4.hint()\n",
    "# step_4.solution()"
   ]
  },
  {
   "cell_type": "markdown",
   "id": "6106eb86",
   "metadata": {
    "papermill": {
     "duration": 0.006581,
     "end_time": "2022-10-19T07:06:00.173097",
     "exception": false,
     "start_time": "2022-10-19T07:06:00.166516",
     "status": "completed"
    },
    "tags": []
   },
   "source": [
    "## Think About Your Results\n",
    "\n",
    "Use the `head` method to compare the top few predictions to the actual home values (in `y`) for those same homes. Anything surprising?\n"
   ]
  },
  {
   "cell_type": "code",
   "execution_count": 12,
   "id": "ede17d04",
   "metadata": {
    "execution": {
     "iopub.execute_input": "2022-10-19T07:06:00.189379Z",
     "iopub.status.busy": "2022-10-19T07:06:00.188909Z",
     "iopub.status.idle": "2022-10-19T07:06:00.195356Z",
     "shell.execute_reply": "2022-10-19T07:06:00.193763Z"
    },
    "papermill": {
     "duration": 0.018337,
     "end_time": "2022-10-19T07:06:00.198265",
     "exception": false,
     "start_time": "2022-10-19T07:06:00.179928",
     "status": "completed"
    },
    "tags": []
   },
   "outputs": [],
   "source": [
    "# You can write code in this cell\n"
   ]
  },
  {
   "cell_type": "markdown",
   "id": "de8c5e2d",
   "metadata": {
    "papermill": {
     "duration": 0.006572,
     "end_time": "2022-10-19T07:06:00.211884",
     "exception": false,
     "start_time": "2022-10-19T07:06:00.205312",
     "status": "completed"
    },
    "tags": []
   },
   "source": [
    "It's natural to ask how accurate the model's predictions will be and how you can improve that. That will be you're next step.\n",
    "\n",
    "# Keep Going\n",
    "\n",
    "You are ready for **[Model Validation](https://www.kaggle.com/dansbecker/model-validation).**\n"
   ]
  },
  {
   "cell_type": "markdown",
   "id": "94f7b8af",
   "metadata": {
    "papermill": {
     "duration": 0.006447,
     "end_time": "2022-10-19T07:06:00.225593",
     "exception": false,
     "start_time": "2022-10-19T07:06:00.219146",
     "status": "completed"
    },
    "tags": []
   },
   "source": [
    "---\n",
    "\n",
    "\n",
    "\n",
    "\n",
    "*Have questions or comments? Visit the [course discussion forum](https://www.kaggle.com/learn/intro-to-machine-learning/discussion) to chat with other learners.*"
   ]
  }
 ],
 "metadata": {
  "kernelspec": {
   "display_name": "Python 3",
   "language": "python",
   "name": "python3"
  },
  "language_info": {
   "codemirror_mode": {
    "name": "ipython",
    "version": 3
   },
   "file_extension": ".py",
   "mimetype": "text/x-python",
   "name": "python",
   "nbconvert_exporter": "python",
   "pygments_lexer": "ipython3",
   "version": "3.7.12"
  },
  "papermill": {
   "default_parameters": {},
   "duration": 13.071662,
   "end_time": "2022-10-19T07:06:01.057189",
   "environment_variables": {},
   "exception": null,
   "input_path": "__notebook__.ipynb",
   "output_path": "__notebook__.ipynb",
   "parameters": {},
   "start_time": "2022-10-19T07:05:47.985527",
   "version": "2.3.4"
  }
 },
 "nbformat": 4,
 "nbformat_minor": 5
}
