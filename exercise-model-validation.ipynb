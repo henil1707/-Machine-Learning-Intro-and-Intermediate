{
 "cells": [
  {
   "cell_type": "markdown",
   "id": "5acf53ec",
   "metadata": {
    "papermill": {
     "duration": 0.006716,
     "end_time": "2022-10-19T13:35:42.092460",
     "exception": false,
     "start_time": "2022-10-19T13:35:42.085744",
     "status": "completed"
    },
    "tags": []
   },
   "source": [
    "**This notebook is an exercise in the [Introduction to Machine Learning](https://www.kaggle.com/learn/intro-to-machine-learning) course.  You can reference the tutorial at [this link](https://www.kaggle.com/dansbecker/model-validation).**\n",
    "\n",
    "---\n"
   ]
  },
  {
   "cell_type": "markdown",
   "id": "9161f689",
   "metadata": {
    "papermill": {
     "duration": 0.004434,
     "end_time": "2022-10-19T13:35:42.102070",
     "exception": false,
     "start_time": "2022-10-19T13:35:42.097636",
     "status": "completed"
    },
    "tags": []
   },
   "source": [
    "## Recap\n",
    "You've built a model. In this exercise you will test how good your model is.\n",
    "\n",
    "Run the cell below to set up your coding environment where the previous exercise left off."
   ]
  },
  {
   "cell_type": "code",
   "execution_count": 1,
   "id": "2993df67",
   "metadata": {
    "execution": {
     "iopub.execute_input": "2022-10-19T13:35:42.114951Z",
     "iopub.status.busy": "2022-10-19T13:35:42.114048Z",
     "iopub.status.idle": "2022-10-19T13:35:43.512774Z",
     "shell.execute_reply": "2022-10-19T13:35:43.511876Z"
    },
    "papermill": {
     "duration": 1.408426,
     "end_time": "2022-10-19T13:35:43.515727",
     "exception": false,
     "start_time": "2022-10-19T13:35:42.107301",
     "status": "completed"
    },
    "tags": []
   },
   "outputs": [
    {
     "name": "stdout",
     "output_type": "stream",
     "text": [
      "First in-sample predictions: [208500. 181500. 223500. 140000. 250000.]\n",
      "Actual target values for those homes: [208500, 181500, 223500, 140000, 250000]\n",
      "Setup Complete\n"
     ]
    }
   ],
   "source": [
    "# Code you have previously used to load data\n",
    "import pandas as pd\n",
    "from sklearn.tree import DecisionTreeRegressor\n",
    "\n",
    "# Path of the file to read\n",
    "iowa_file_path = '../input/home-data-for-ml-course/train.csv'\n",
    "\n",
    "home_data = pd.read_csv(iowa_file_path)\n",
    "y = home_data.SalePrice\n",
    "feature_columns = ['LotArea', 'YearBuilt', '1stFlrSF', '2ndFlrSF', 'FullBath', 'BedroomAbvGr', 'TotRmsAbvGrd']\n",
    "X = home_data[feature_columns]\n",
    "\n",
    "# Specify Model\n",
    "iowa_model = DecisionTreeRegressor()\n",
    "# Fit Model\n",
    "iowa_model.fit(X, y)\n",
    "\n",
    "print(\"First in-sample predictions:\", iowa_model.predict(X.head()))\n",
    "print(\"Actual target values for those homes:\", y.head().tolist())\n",
    "\n",
    "# Set up code checking\n",
    "from learntools.core import binder\n",
    "binder.bind(globals())\n",
    "from learntools.machine_learning.ex4 import *\n",
    "print(\"Setup Complete\")"
   ]
  },
  {
   "cell_type": "markdown",
   "id": "0ba10ef0",
   "metadata": {
    "papermill": {
     "duration": 0.003793,
     "end_time": "2022-10-19T13:35:43.523911",
     "exception": false,
     "start_time": "2022-10-19T13:35:43.520118",
     "status": "completed"
    },
    "tags": []
   },
   "source": [
    "# Exercises\n",
    "\n",
    "## Step 1: Split Your Data\n",
    "Use the `train_test_split` function to split up your data.\n",
    "\n",
    "Give it the argument `random_state=1` so the `check` functions know what to expect when verifying your code.\n",
    "\n",
    "Recall, your features are loaded in the DataFrame **X** and your target is loaded in **y**.\n"
   ]
  },
  {
   "cell_type": "code",
   "execution_count": 2,
   "id": "484f61eb",
   "metadata": {
    "execution": {
     "iopub.execute_input": "2022-10-19T13:35:43.534521Z",
     "iopub.status.busy": "2022-10-19T13:35:43.533362Z",
     "iopub.status.idle": "2022-10-19T13:35:43.548566Z",
     "shell.execute_reply": "2022-10-19T13:35:43.547443Z"
    },
    "papermill": {
     "duration": 0.022521,
     "end_time": "2022-10-19T13:35:43.550486",
     "exception": false,
     "start_time": "2022-10-19T13:35:43.527965",
     "status": "completed"
    },
    "tags": []
   },
   "outputs": [
    {
     "data": {
      "application/javascript": [
       "parent.postMessage({\"jupyterEvent\": \"custom.exercise_interaction\", \"data\": {\"outcomeType\": 1, \"valueTowardsCompletion\": 0.25, \"interactionType\": 1, \"questionType\": 2, \"questionId\": \"1_SplitData\", \"learnToolsVersion\": \"0.3.4\", \"failureMessage\": \"\", \"exceptionClass\": \"\", \"trace\": \"\"}}, \"*\")"
      ],
      "text/plain": [
       "<IPython.core.display.Javascript object>"
      ]
     },
     "metadata": {},
     "output_type": "display_data"
    },
    {
     "data": {
      "text/markdown": [
       "<span style=\"color:#33cc33\">Correct</span>"
      ],
      "text/plain": [
       "Correct"
      ]
     },
     "metadata": {},
     "output_type": "display_data"
    }
   ],
   "source": [
    "# Import the train_test_split function and uncomment\n",
    "from sklearn.model_selection import train_test_split\n",
    "\n",
    "# fill in and uncomment\n",
    "train_X, val_X, train_y, val_y = train_test_split(X,y,random_state=1)\n",
    "\n",
    "# Check your answer\n",
    "step_1.check()"
   ]
  },
  {
   "cell_type": "code",
   "execution_count": 3,
   "id": "3a6fd0ab",
   "metadata": {
    "execution": {
     "iopub.execute_input": "2022-10-19T13:35:43.562296Z",
     "iopub.status.busy": "2022-10-19T13:35:43.560909Z",
     "iopub.status.idle": "2022-10-19T13:35:43.566128Z",
     "shell.execute_reply": "2022-10-19T13:35:43.565202Z"
    },
    "papermill": {
     "duration": 0.012848,
     "end_time": "2022-10-19T13:35:43.568086",
     "exception": false,
     "start_time": "2022-10-19T13:35:43.555238",
     "status": "completed"
    },
    "tags": []
   },
   "outputs": [],
   "source": [
    "# The lines below will show you a hint or the solution.\n",
    "# step_1.hint() \n",
    "# step_1.solution()\n"
   ]
  },
  {
   "cell_type": "markdown",
   "id": "9f970f49",
   "metadata": {
    "papermill": {
     "duration": 0.004327,
     "end_time": "2022-10-19T13:35:43.577160",
     "exception": false,
     "start_time": "2022-10-19T13:35:43.572833",
     "status": "completed"
    },
    "tags": []
   },
   "source": [
    "## Step 2: Specify and Fit the Model\n",
    "\n",
    "Create a `DecisionTreeRegressor` model and fit it to the relevant data.\n",
    "Set `random_state` to 1 again when creating the model."
   ]
  },
  {
   "cell_type": "code",
   "execution_count": 4,
   "id": "cc94fb04",
   "metadata": {
    "execution": {
     "iopub.execute_input": "2022-10-19T13:35:43.587952Z",
     "iopub.status.busy": "2022-10-19T13:35:43.587505Z",
     "iopub.status.idle": "2022-10-19T13:35:43.616394Z",
     "shell.execute_reply": "2022-10-19T13:35:43.615170Z"
    },
    "papermill": {
     "duration": 0.036972,
     "end_time": "2022-10-19T13:35:43.618576",
     "exception": false,
     "start_time": "2022-10-19T13:35:43.581604",
     "status": "completed"
    },
    "tags": []
   },
   "outputs": [
    {
     "name": "stdout",
     "output_type": "stream",
     "text": [
      "[186500. 184000. 130000.  92000. 164500. 220000. 335000. 144152. 215000.\n",
      " 262000.]\n",
      "[186500. 184000. 130000.  92000. 164500. 220000. 335000. 144152. 215000.\n",
      " 262000.]\n"
     ]
    },
    {
     "data": {
      "application/javascript": [
       "parent.postMessage({\"jupyterEvent\": \"custom.exercise_interaction\", \"data\": {\"outcomeType\": 1, \"valueTowardsCompletion\": 0.25, \"interactionType\": 1, \"questionType\": 2, \"questionId\": \"2_FitModelWithTrain\", \"learnToolsVersion\": \"0.3.4\", \"failureMessage\": \"\", \"exceptionClass\": \"\", \"trace\": \"\"}}, \"*\")"
      ],
      "text/plain": [
       "<IPython.core.display.Javascript object>"
      ]
     },
     "metadata": {},
     "output_type": "display_data"
    },
    {
     "data": {
      "text/markdown": [
       "<span style=\"color:#33cc33\">Correct</span>"
      ],
      "text/plain": [
       "Correct"
      ]
     },
     "metadata": {},
     "output_type": "display_data"
    }
   ],
   "source": [
    "# You imported DecisionTreeRegressor in your last exercise\n",
    "# and that code has been copied to the setup code above. So, no need to\n",
    "# import it again\n",
    "\n",
    "# Specify the model\n",
    "iowa_model = DecisionTreeRegressor(random_state=1)\n",
    "\n",
    "# Fit iowa_model with the training data.\n",
    "iowa_model.fit(train_X,train_y)\n",
    "\n",
    "# Check your answer\n",
    "step_2.check()"
   ]
  },
  {
   "cell_type": "code",
   "execution_count": 5,
   "id": "56872f4b",
   "metadata": {
    "execution": {
     "iopub.execute_input": "2022-10-19T13:35:43.630865Z",
     "iopub.status.busy": "2022-10-19T13:35:43.630428Z",
     "iopub.status.idle": "2022-10-19T13:35:43.634348Z",
     "shell.execute_reply": "2022-10-19T13:35:43.633579Z"
    },
    "papermill": {
     "duration": 0.012455,
     "end_time": "2022-10-19T13:35:43.636196",
     "exception": false,
     "start_time": "2022-10-19T13:35:43.623741",
     "status": "completed"
    },
    "tags": []
   },
   "outputs": [],
   "source": [
    "# step_2.hint()\n",
    "# step_2.solution()"
   ]
  },
  {
   "cell_type": "markdown",
   "id": "7570d9d7",
   "metadata": {
    "papermill": {
     "duration": 0.005269,
     "end_time": "2022-10-19T13:35:43.646940",
     "exception": false,
     "start_time": "2022-10-19T13:35:43.641671",
     "status": "completed"
    },
    "tags": []
   },
   "source": [
    "## Step 3: Make Predictions with Validation data\n"
   ]
  },
  {
   "cell_type": "code",
   "execution_count": 6,
   "id": "0c4b428f",
   "metadata": {
    "execution": {
     "iopub.execute_input": "2022-10-19T13:35:43.661287Z",
     "iopub.status.busy": "2022-10-19T13:35:43.660739Z",
     "iopub.status.idle": "2022-10-19T13:35:43.679801Z",
     "shell.execute_reply": "2022-10-19T13:35:43.677887Z"
    },
    "papermill": {
     "duration": 0.029981,
     "end_time": "2022-10-19T13:35:43.683067",
     "exception": false,
     "start_time": "2022-10-19T13:35:43.653086",
     "status": "completed"
    },
    "tags": []
   },
   "outputs": [
    {
     "data": {
      "application/javascript": [
       "parent.postMessage({\"jupyterEvent\": \"custom.exercise_interaction\", \"data\": {\"outcomeType\": 1, \"valueTowardsCompletion\": 0.25, \"interactionType\": 1, \"questionType\": 2, \"questionId\": \"3_ValPreds\", \"learnToolsVersion\": \"0.3.4\", \"failureMessage\": \"\", \"exceptionClass\": \"\", \"trace\": \"\"}}, \"*\")"
      ],
      "text/plain": [
       "<IPython.core.display.Javascript object>"
      ]
     },
     "metadata": {},
     "output_type": "display_data"
    },
    {
     "data": {
      "text/markdown": [
       "<span style=\"color:#33cc33\">Correct</span>"
      ],
      "text/plain": [
       "Correct"
      ]
     },
     "metadata": {},
     "output_type": "display_data"
    }
   ],
   "source": [
    "# Predict with all validation observations\n",
    "val_predictions = iowa_model.predict(val_X)\n",
    "\n",
    "# Check your answer\n",
    "step_3.check()"
   ]
  },
  {
   "cell_type": "code",
   "execution_count": 7,
   "id": "9f166e59",
   "metadata": {
    "execution": {
     "iopub.execute_input": "2022-10-19T13:35:43.696204Z",
     "iopub.status.busy": "2022-10-19T13:35:43.695723Z",
     "iopub.status.idle": "2022-10-19T13:35:43.701349Z",
     "shell.execute_reply": "2022-10-19T13:35:43.699920Z"
    },
    "papermill": {
     "duration": 0.015452,
     "end_time": "2022-10-19T13:35:43.704311",
     "exception": false,
     "start_time": "2022-10-19T13:35:43.688859",
     "status": "completed"
    },
    "tags": []
   },
   "outputs": [],
   "source": [
    "# step_3.hint()\n",
    "# step_3.solution()"
   ]
  },
  {
   "cell_type": "markdown",
   "id": "e4ce235b",
   "metadata": {
    "papermill": {
     "duration": 0.005289,
     "end_time": "2022-10-19T13:35:43.715966",
     "exception": false,
     "start_time": "2022-10-19T13:35:43.710677",
     "status": "completed"
    },
    "tags": []
   },
   "source": [
    "Inspect your predictions and actual values from validation data."
   ]
  },
  {
   "cell_type": "code",
   "execution_count": 8,
   "id": "5d59f2a8",
   "metadata": {
    "execution": {
     "iopub.execute_input": "2022-10-19T13:35:43.729535Z",
     "iopub.status.busy": "2022-10-19T13:35:43.728962Z",
     "iopub.status.idle": "2022-10-19T13:35:43.736331Z",
     "shell.execute_reply": "2022-10-19T13:35:43.734622Z"
    },
    "papermill": {
     "duration": 0.016911,
     "end_time": "2022-10-19T13:35:43.738565",
     "exception": false,
     "start_time": "2022-10-19T13:35:43.721654",
     "status": "completed"
    },
    "tags": []
   },
   "outputs": [
    {
     "name": "stdout",
     "output_type": "stream",
     "text": [
      "<learntools.core.constants.PlaceholderValue object at 0x7f553d879650>\n",
      "<learntools.core.constants.PlaceholderValue object at 0x7f553d879650>\n"
     ]
    }
   ],
   "source": [
    "# print the top few validation predictions\n",
    "print(____)\n",
    "# print the top few actual prices from validation data\n",
    "print(____)"
   ]
  },
  {
   "cell_type": "markdown",
   "id": "ea347fda",
   "metadata": {
    "papermill": {
     "duration": 0.005106,
     "end_time": "2022-10-19T13:35:43.750430",
     "exception": false,
     "start_time": "2022-10-19T13:35:43.745324",
     "status": "completed"
    },
    "tags": []
   },
   "source": [
    "What do you notice that is different from what you saw with in-sample predictions (which are printed after the top code cell in this page).\n",
    "\n",
    "Do you remember why validation predictions differ from in-sample (or training) predictions? This is an important idea from the last lesson.\n",
    "\n",
    "## Step 4: Calculate the Mean Absolute Error in Validation Data\n"
   ]
  },
  {
   "cell_type": "code",
   "execution_count": 9,
   "id": "5a291d75",
   "metadata": {
    "execution": {
     "iopub.execute_input": "2022-10-19T13:35:43.763231Z",
     "iopub.status.busy": "2022-10-19T13:35:43.762790Z",
     "iopub.status.idle": "2022-10-19T13:35:43.774626Z",
     "shell.execute_reply": "2022-10-19T13:35:43.772070Z"
    },
    "papermill": {
     "duration": 0.021761,
     "end_time": "2022-10-19T13:35:43.777708",
     "exception": false,
     "start_time": "2022-10-19T13:35:43.755947",
     "status": "completed"
    },
    "tags": []
   },
   "outputs": [
    {
     "name": "stdout",
     "output_type": "stream",
     "text": [
      "29652.931506849316\n"
     ]
    },
    {
     "data": {
      "application/javascript": [
       "parent.postMessage({\"jupyterEvent\": \"custom.exercise_interaction\", \"data\": {\"outcomeType\": 1, \"valueTowardsCompletion\": 0.25, \"interactionType\": 1, \"questionType\": 1, \"questionId\": \"4_MAE\", \"learnToolsVersion\": \"0.3.4\", \"failureMessage\": \"\", \"exceptionClass\": \"\", \"trace\": \"\"}}, \"*\")"
      ],
      "text/plain": [
       "<IPython.core.display.Javascript object>"
      ]
     },
     "metadata": {},
     "output_type": "display_data"
    },
    {
     "data": {
      "text/markdown": [
       "<span style=\"color:#33cc33\">Correct</span>"
      ],
      "text/plain": [
       "Correct"
      ]
     },
     "metadata": {},
     "output_type": "display_data"
    }
   ],
   "source": [
    "from sklearn.metrics import mean_absolute_error\n",
    "val_mae = mean_absolute_error(val_y,val_predictions)\n",
    "# uncomment following line to see the validation_mae\n",
    "print(val_mae)\n",
    "\n",
    "# Check your answer\n",
    "step_4.check()"
   ]
  },
  {
   "cell_type": "code",
   "execution_count": 10,
   "id": "dcf0cdfd",
   "metadata": {
    "execution": {
     "iopub.execute_input": "2022-10-19T13:35:43.791261Z",
     "iopub.status.busy": "2022-10-19T13:35:43.790782Z",
     "iopub.status.idle": "2022-10-19T13:35:43.795655Z",
     "shell.execute_reply": "2022-10-19T13:35:43.794314Z"
    },
    "papermill": {
     "duration": 0.01412,
     "end_time": "2022-10-19T13:35:43.797646",
     "exception": false,
     "start_time": "2022-10-19T13:35:43.783526",
     "status": "completed"
    },
    "tags": []
   },
   "outputs": [],
   "source": [
    "# step_4.hint()\n",
    "# step_4.solution()"
   ]
  },
  {
   "cell_type": "markdown",
   "id": "cd196d5c",
   "metadata": {
    "papermill": {
     "duration": 0.005619,
     "end_time": "2022-10-19T13:35:43.809519",
     "exception": false,
     "start_time": "2022-10-19T13:35:43.803900",
     "status": "completed"
    },
    "tags": []
   },
   "source": [
    "Is that MAE good?  There isn't a general rule for what values are good that applies across applications. But you'll see how to use (and improve) this number in the next step.\n",
    "\n",
    "# Keep Going\n",
    "\n",
    "You are ready for **[Underfitting and Overfitting](https://www.kaggle.com/dansbecker/underfitting-and-overfitting).**\n"
   ]
  },
  {
   "cell_type": "markdown",
   "id": "d8aa4e29",
   "metadata": {
    "papermill": {
     "duration": 0.005438,
     "end_time": "2022-10-19T13:35:43.820755",
     "exception": false,
     "start_time": "2022-10-19T13:35:43.815317",
     "status": "completed"
    },
    "tags": []
   },
   "source": [
    "---\n",
    "\n",
    "\n",
    "\n",
    "\n",
    "*Have questions or comments? Visit the [course discussion forum](https://www.kaggle.com/learn/intro-to-machine-learning/discussion) to chat with other learners.*"
   ]
  }
 ],
 "metadata": {
  "kernelspec": {
   "display_name": "Python 3",
   "language": "python",
   "name": "python3"
  },
  "language_info": {
   "codemirror_mode": {
    "name": "ipython",
    "version": 3
   },
   "file_extension": ".py",
   "mimetype": "text/x-python",
   "name": "python",
   "nbconvert_exporter": "python",
   "pygments_lexer": "ipython3",
   "version": "3.7.12"
  },
  "papermill": {
   "default_parameters": {},
   "duration": 11.932052,
   "end_time": "2022-10-19T13:35:44.853681",
   "environment_variables": {},
   "exception": null,
   "input_path": "__notebook__.ipynb",
   "output_path": "__notebook__.ipynb",
   "parameters": {},
   "start_time": "2022-10-19T13:35:32.921629",
   "version": "2.3.4"
  }
 },
 "nbformat": 4,
 "nbformat_minor": 5
}
