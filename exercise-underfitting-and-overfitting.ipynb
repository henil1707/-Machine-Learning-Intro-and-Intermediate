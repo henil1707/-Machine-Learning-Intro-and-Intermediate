{
 "cells": [
  {
   "cell_type": "markdown",
   "id": "1c70f011",
   "metadata": {
    "papermill": {
     "duration": 0.004628,
     "end_time": "2022-10-19T13:52:58.795129",
     "exception": false,
     "start_time": "2022-10-19T13:52:58.790501",
     "status": "completed"
    },
    "tags": []
   },
   "source": [
    "**This notebook is an exercise in the [Introduction to Machine Learning](https://www.kaggle.com/learn/intro-to-machine-learning) course.  You can reference the tutorial at [this link](https://www.kaggle.com/dansbecker/underfitting-and-overfitting).**\n",
    "\n",
    "---\n"
   ]
  },
  {
   "cell_type": "markdown",
   "id": "71d8edd3",
   "metadata": {
    "papermill": {
     "duration": 0.00348,
     "end_time": "2022-10-19T13:52:58.802319",
     "exception": false,
     "start_time": "2022-10-19T13:52:58.798839",
     "status": "completed"
    },
    "tags": []
   },
   "source": [
    "## Recap\n",
    "You've built your first model, and now it's time to optimize the size of the tree to make better predictions. Run this cell to set up your coding environment where the previous step left off."
   ]
  },
  {
   "cell_type": "code",
   "execution_count": 1,
   "id": "689bdc0a",
   "metadata": {
    "execution": {
     "iopub.execute_input": "2022-10-19T13:52:58.814653Z",
     "iopub.status.busy": "2022-10-19T13:52:58.812191Z",
     "iopub.status.idle": "2022-10-19T13:53:00.086780Z",
     "shell.execute_reply": "2022-10-19T13:53:00.084522Z"
    },
    "papermill": {
     "duration": 1.283779,
     "end_time": "2022-10-19T13:53:00.089607",
     "exception": false,
     "start_time": "2022-10-19T13:52:58.805828",
     "status": "completed"
    },
    "tags": []
   },
   "outputs": [
    {
     "name": "stdout",
     "output_type": "stream",
     "text": [
      "Validation MAE: 29,653\n",
      "\n",
      "Setup complete\n"
     ]
    }
   ],
   "source": [
    "# Code you have previously used to load data\n",
    "import pandas as pd\n",
    "from sklearn.metrics import mean_absolute_error\n",
    "from sklearn.model_selection import train_test_split\n",
    "from sklearn.tree import DecisionTreeRegressor\n",
    "\n",
    "\n",
    "# Path of the file to read\n",
    "iowa_file_path = '../input/home-data-for-ml-course/train.csv'\n",
    "\n",
    "home_data = pd.read_csv(iowa_file_path)\n",
    "# Create target object and call it y\n",
    "y = home_data.SalePrice\n",
    "# Create X\n",
    "features = ['LotArea', 'YearBuilt', '1stFlrSF', '2ndFlrSF', 'FullBath', 'BedroomAbvGr', 'TotRmsAbvGrd']\n",
    "X = home_data[features]\n",
    "\n",
    "# Split into validation and training data\n",
    "train_X, val_X, train_y, val_y = train_test_split(X, y, random_state=1)\n",
    "\n",
    "# Specify Model\n",
    "iowa_model = DecisionTreeRegressor(random_state=1)\n",
    "# Fit Model\n",
    "iowa_model.fit(train_X, train_y)\n",
    "\n",
    "# Make validation predictions and calculate mean absolute error\n",
    "val_predictions = iowa_model.predict(val_X)\n",
    "val_mae = mean_absolute_error(val_predictions, val_y)\n",
    "print(\"Validation MAE: {:,.0f}\".format(val_mae))\n",
    "\n",
    "# Set up code checking\n",
    "from learntools.core import binder\n",
    "binder.bind(globals())\n",
    "from learntools.machine_learning.ex5 import *\n",
    "print(\"\\nSetup complete\")"
   ]
  },
  {
   "cell_type": "markdown",
   "id": "dcd1a36e",
   "metadata": {
    "papermill": {
     "duration": 0.003411,
     "end_time": "2022-10-19T13:53:00.097002",
     "exception": false,
     "start_time": "2022-10-19T13:53:00.093591",
     "status": "completed"
    },
    "tags": []
   },
   "source": [
    "# Exercises\n",
    "You could write the function `get_mae` yourself. For now, we'll supply it. This is the same function you read about in the previous lesson. Just run the cell below."
   ]
  },
  {
   "cell_type": "code",
   "execution_count": 2,
   "id": "bfd02d9f",
   "metadata": {
    "execution": {
     "iopub.execute_input": "2022-10-19T13:53:00.105931Z",
     "iopub.status.busy": "2022-10-19T13:53:00.105557Z",
     "iopub.status.idle": "2022-10-19T13:53:00.111253Z",
     "shell.execute_reply": "2022-10-19T13:53:00.110210Z"
    },
    "papermill": {
     "duration": 0.013008,
     "end_time": "2022-10-19T13:53:00.113606",
     "exception": false,
     "start_time": "2022-10-19T13:53:00.100598",
     "status": "completed"
    },
    "tags": []
   },
   "outputs": [],
   "source": [
    "def get_mae(max_leaf_nodes, train_X, val_X, train_y, val_y):\n",
    "    model = DecisionTreeRegressor(max_leaf_nodes=max_leaf_nodes, random_state=0)\n",
    "    model.fit(train_X, train_y)\n",
    "    preds_val = model.predict(val_X)\n",
    "    mae = mean_absolute_error(val_y, preds_val)\n",
    "    return(mae)"
   ]
  },
  {
   "cell_type": "markdown",
   "id": "ba7f3641",
   "metadata": {
    "papermill": {
     "duration": 0.003316,
     "end_time": "2022-10-19T13:53:00.120494",
     "exception": false,
     "start_time": "2022-10-19T13:53:00.117178",
     "status": "completed"
    },
    "tags": []
   },
   "source": [
    "## Step 1: Compare Different Tree Sizes\n",
    "Write a loop that tries the following values for *max_leaf_nodes* from a set of possible values.\n",
    "\n",
    "Call the *get_mae* function on each value of max_leaf_nodes. Store the output in some way that allows you to select the value of `max_leaf_nodes` that gives the most accurate model on your data."
   ]
  },
  {
   "cell_type": "code",
   "execution_count": 3,
   "id": "e0b4dcf6",
   "metadata": {
    "execution": {
     "iopub.execute_input": "2022-10-19T13:53:00.130054Z",
     "iopub.status.busy": "2022-10-19T13:53:00.128982Z",
     "iopub.status.idle": "2022-10-19T13:53:00.178079Z",
     "shell.execute_reply": "2022-10-19T13:53:00.176991Z"
    },
    "papermill": {
     "duration": 0.056281,
     "end_time": "2022-10-19T13:53:00.180498",
     "exception": false,
     "start_time": "2022-10-19T13:53:00.124217",
     "status": "completed"
    },
    "tags": []
   },
   "outputs": [
    {
     "data": {
      "application/javascript": [
       "parent.postMessage({\"jupyterEvent\": \"custom.exercise_interaction\", \"data\": {\"outcomeType\": 1, \"valueTowardsCompletion\": 0.5, \"interactionType\": 1, \"questionType\": 1, \"questionId\": \"1_BestTreeSize\", \"learnToolsVersion\": \"0.3.4\", \"failureMessage\": \"\", \"exceptionClass\": \"\", \"trace\": \"\"}}, \"*\")"
      ],
      "text/plain": [
       "<IPython.core.display.Javascript object>"
      ]
     },
     "metadata": {},
     "output_type": "display_data"
    },
    {
     "data": {
      "text/markdown": [
       "<span style=\"color:#33cc33\">Correct</span>"
      ],
      "text/plain": [
       "Correct"
      ]
     },
     "metadata": {},
     "output_type": "display_data"
    }
   ],
   "source": [
    "candidate_max_leaf_nodes = [5, 25, 50, 100, 250, 500]\n",
    "# Write loop to find the ideal tree size from candidate_max_leaf_nodes\n",
    "scores={leaf_size:get_mae(leaf_size,train_X,val_X,train_y,val_y) for leaf_size in candidate_max_leaf_nodes}\n",
    "\n",
    "# Store the best value of max_leaf_nodes (it will be either 5, 25, 50, 100, 250 or 500)\n",
    "best_tree_size = min(scores,key=scores.get)\n",
    "\n",
    "# Check your answer\n",
    "step_1.check()"
   ]
  },
  {
   "cell_type": "code",
   "execution_count": 4,
   "id": "c8c0b549",
   "metadata": {
    "execution": {
     "iopub.execute_input": "2022-10-19T13:53:00.190319Z",
     "iopub.status.busy": "2022-10-19T13:53:00.189560Z",
     "iopub.status.idle": "2022-10-19T13:53:00.194506Z",
     "shell.execute_reply": "2022-10-19T13:53:00.193409Z"
    },
    "papermill": {
     "duration": 0.012188,
     "end_time": "2022-10-19T13:53:00.196661",
     "exception": false,
     "start_time": "2022-10-19T13:53:00.184473",
     "status": "completed"
    },
    "tags": []
   },
   "outputs": [],
   "source": [
    "# The lines below will show you a hint or the solution.\n",
    "# step_1.hint() \n",
    "# step_1.solution()"
   ]
  },
  {
   "cell_type": "markdown",
   "id": "1f9be8aa",
   "metadata": {
    "papermill": {
     "duration": 0.003431,
     "end_time": "2022-10-19T13:53:00.203998",
     "exception": false,
     "start_time": "2022-10-19T13:53:00.200567",
     "status": "completed"
    },
    "tags": []
   },
   "source": [
    "## Step 2: Fit Model Using All Data\n",
    "You know the best tree size. If you were going to deploy this model in practice, you would make it even more accurate by using all of the data and keeping that tree size.  That is, you don't need to hold out the validation data now that you've made all your modeling decisions."
   ]
  },
  {
   "cell_type": "code",
   "execution_count": 5,
   "id": "6a8be68f",
   "metadata": {
    "execution": {
     "iopub.execute_input": "2022-10-19T13:53:00.213125Z",
     "iopub.status.busy": "2022-10-19T13:53:00.212714Z",
     "iopub.status.idle": "2022-10-19T13:53:00.231356Z",
     "shell.execute_reply": "2022-10-19T13:53:00.230182Z"
    },
    "papermill": {
     "duration": 0.025968,
     "end_time": "2022-10-19T13:53:00.233593",
     "exception": false,
     "start_time": "2022-10-19T13:53:00.207625",
     "status": "completed"
    },
    "tags": []
   },
   "outputs": [
    {
     "data": {
      "application/javascript": [
       "parent.postMessage({\"jupyterEvent\": \"custom.exercise_interaction\", \"data\": {\"outcomeType\": 1, \"valueTowardsCompletion\": 0.5, \"interactionType\": 1, \"questionType\": 2, \"questionId\": \"2_FitModelWithAllData\", \"learnToolsVersion\": \"0.3.4\", \"failureMessage\": \"\", \"exceptionClass\": \"\", \"trace\": \"\"}}, \"*\")"
      ],
      "text/plain": [
       "<IPython.core.display.Javascript object>"
      ]
     },
     "metadata": {},
     "output_type": "display_data"
    },
    {
     "data": {
      "text/markdown": [
       "<span style=\"color:#33cc33\">Correct</span>"
      ],
      "text/plain": [
       "Correct"
      ]
     },
     "metadata": {},
     "output_type": "display_data"
    }
   ],
   "source": [
    "# Fill in argument to make optimal size and uncomment\n",
    "final_model = DecisionTreeRegressor(max_leaf_nodes=best_tree_size,random_state=1)\n",
    "\n",
    "# fit the final model and uncomment the next two lines\n",
    "final_model.fit(X,y)\n",
    "\n",
    "# Check your answer\n",
    "step_2.check()"
   ]
  },
  {
   "cell_type": "code",
   "execution_count": 6,
   "id": "539ccff9",
   "metadata": {
    "execution": {
     "iopub.execute_input": "2022-10-19T13:53:00.243648Z",
     "iopub.status.busy": "2022-10-19T13:53:00.243262Z",
     "iopub.status.idle": "2022-10-19T13:53:00.247177Z",
     "shell.execute_reply": "2022-10-19T13:53:00.246303Z"
    },
    "papermill": {
     "duration": 0.011636,
     "end_time": "2022-10-19T13:53:00.249254",
     "exception": false,
     "start_time": "2022-10-19T13:53:00.237618",
     "status": "completed"
    },
    "tags": []
   },
   "outputs": [],
   "source": [
    "# step_2.hint()\n",
    "# step_2.solution()"
   ]
  },
  {
   "cell_type": "markdown",
   "id": "0e49f99a",
   "metadata": {
    "papermill": {
     "duration": 0.004145,
     "end_time": "2022-10-19T13:53:00.257896",
     "exception": false,
     "start_time": "2022-10-19T13:53:00.253751",
     "status": "completed"
    },
    "tags": []
   },
   "source": [
    "You've tuned this model and improved your results. But we are still using Decision Tree models, which are not very sophisticated by modern machine learning standards. In the next step you will learn to use Random Forests to improve your models even more.\n",
    "\n",
    "# Keep Going\n",
    "\n",
    "You are ready for **[Random Forests](https://www.kaggle.com/dansbecker/random-forests).**\n"
   ]
  },
  {
   "cell_type": "markdown",
   "id": "05b2e5e2",
   "metadata": {
    "papermill": {
     "duration": 0.003885,
     "end_time": "2022-10-19T13:53:00.265995",
     "exception": false,
     "start_time": "2022-10-19T13:53:00.262110",
     "status": "completed"
    },
    "tags": []
   },
   "source": [
    "---\n",
    "\n",
    "\n",
    "\n",
    "\n",
    "*Have questions or comments? Visit the [course discussion forum](https://www.kaggle.com/learn/intro-to-machine-learning/discussion) to chat with other learners.*"
   ]
  }
 ],
 "metadata": {
  "kernelspec": {
   "display_name": "Python 3",
   "language": "python",
   "name": "python3"
  },
  "language_info": {
   "codemirror_mode": {
    "name": "ipython",
    "version": 3
   },
   "file_extension": ".py",
   "mimetype": "text/x-python",
   "name": "python",
   "nbconvert_exporter": "python",
   "pygments_lexer": "ipython3",
   "version": "3.7.12"
  },
  "papermill": {
   "default_parameters": {},
   "duration": 10.800212,
   "end_time": "2022-10-19T13:53:00.992055",
   "environment_variables": {},
   "exception": null,
   "input_path": "__notebook__.ipynb",
   "output_path": "__notebook__.ipynb",
   "parameters": {},
   "start_time": "2022-10-19T13:52:50.191843",
   "version": "2.3.4"
  }
 },
 "nbformat": 4,
 "nbformat_minor": 5
}
