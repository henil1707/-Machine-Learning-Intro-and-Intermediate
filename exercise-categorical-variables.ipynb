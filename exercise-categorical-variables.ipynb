{
 "cells": [
  {
   "cell_type": "markdown",
   "id": "6f6cdd27",
   "metadata": {
    "papermill": {
     "duration": 0.017468,
     "end_time": "2022-10-19T15:23:27.980486",
     "exception": false,
     "start_time": "2022-10-19T15:23:27.963018",
     "status": "completed"
    },
    "tags": []
   },
   "source": [
    "**This notebook is an exercise in the [Intermediate Machine Learning](https://www.kaggle.com/learn/intermediate-machine-learning) course.  You can reference the tutorial at [this link](https://www.kaggle.com/alexisbcook/categorical-variables).**\n",
    "\n",
    "---\n"
   ]
  },
  {
   "cell_type": "markdown",
   "id": "5a16d637",
   "metadata": {
    "papermill": {
     "duration": 0.009991,
     "end_time": "2022-10-19T15:23:28.004217",
     "exception": false,
     "start_time": "2022-10-19T15:23:27.994226",
     "status": "completed"
    },
    "tags": []
   },
   "source": [
    "By encoding **categorical variables**, you'll obtain your best results thus far!\n",
    "\n",
    "# Setup\n",
    "\n",
    "The questions below will give you feedback on your work. Run the following cell to set up the feedback system."
   ]
  },
  {
   "cell_type": "code",
   "execution_count": 1,
   "id": "24ba1cd3",
   "metadata": {
    "execution": {
     "iopub.execute_input": "2022-10-19T15:23:28.026742Z",
     "iopub.status.busy": "2022-10-19T15:23:28.026037Z",
     "iopub.status.idle": "2022-10-19T15:23:28.102059Z",
     "shell.execute_reply": "2022-10-19T15:23:28.100719Z"
    },
    "papermill": {
     "duration": 0.091244,
     "end_time": "2022-10-19T15:23:28.105700",
     "exception": false,
     "start_time": "2022-10-19T15:23:28.014456",
     "status": "completed"
    },
    "tags": []
   },
   "outputs": [
    {
     "name": "stdout",
     "output_type": "stream",
     "text": [
      "Setup Complete\n"
     ]
    }
   ],
   "source": [
    "# Set up code checking\n",
    "import os\n",
    "if not os.path.exists(\"../input/train.csv\"):\n",
    "    os.symlink(\"../input/home-data-for-ml-course/train.csv\", \"../input/train.csv\")  \n",
    "    os.symlink(\"../input/home-data-for-ml-course/test.csv\", \"../input/test.csv\") \n",
    "from learntools.core import binder\n",
    "binder.bind(globals())\n",
    "from learntools.ml_intermediate.ex3 import *\n",
    "print(\"Setup Complete\")"
   ]
  },
  {
   "cell_type": "markdown",
   "id": "12e779c2",
   "metadata": {
    "papermill": {
     "duration": 0.011246,
     "end_time": "2022-10-19T15:23:28.130798",
     "exception": false,
     "start_time": "2022-10-19T15:23:28.119552",
     "status": "completed"
    },
    "tags": []
   },
   "source": [
    "In this exercise, you will work with data from the [Housing Prices Competition for Kaggle Learn Users](https://www.kaggle.com/c/home-data-for-ml-course). \n",
    "\n",
    "![Ames Housing dataset image](https://i.imgur.com/lTJVG4e.png)\n",
    "\n",
    "Run the next code cell without changes to load the training and validation sets in `X_train`, `X_valid`, `y_train`, and `y_valid`.  The test set is loaded in `X_test`."
   ]
  },
  {
   "cell_type": "code",
   "execution_count": 2,
   "id": "d6ea2c8d",
   "metadata": {
    "execution": {
     "iopub.execute_input": "2022-10-19T15:23:28.152371Z",
     "iopub.status.busy": "2022-10-19T15:23:28.151968Z",
     "iopub.status.idle": "2022-10-19T15:23:29.649005Z",
     "shell.execute_reply": "2022-10-19T15:23:29.647565Z"
    },
    "papermill": {
     "duration": 1.511263,
     "end_time": "2022-10-19T15:23:29.652048",
     "exception": false,
     "start_time": "2022-10-19T15:23:28.140785",
     "status": "completed"
    },
    "tags": []
   },
   "outputs": [],
   "source": [
    "import pandas as pd\n",
    "from sklearn.model_selection import train_test_split\n",
    "\n",
    "# Read the data\n",
    "X = pd.read_csv('../input/train.csv', index_col='Id') \n",
    "X_test = pd.read_csv('../input/test.csv', index_col='Id')\n",
    "\n",
    "# Remove rows with missing target, separate target from predictors\n",
    "X.dropna(axis=0, subset=['SalePrice'], inplace=True)\n",
    "y = X.SalePrice\n",
    "X.drop(['SalePrice'], axis=1, inplace=True)\n",
    "\n",
    "# To keep things simple, we'll drop columns with missing values\n",
    "cols_with_missing = [col for col in X.columns if X[col].isnull().any()] \n",
    "X.drop(cols_with_missing, axis=1, inplace=True)\n",
    "X_test.drop(cols_with_missing, axis=1, inplace=True)\n",
    "\n",
    "# Break off validation set from training data\n",
    "X_train, X_valid, y_train, y_valid = train_test_split(X, y,\n",
    "                                                      train_size=0.8, test_size=0.2,\n",
    "                                                      random_state=0)"
   ]
  },
  {
   "cell_type": "markdown",
   "id": "0df005f4",
   "metadata": {
    "papermill": {
     "duration": 0.009062,
     "end_time": "2022-10-19T15:23:29.670554",
     "exception": false,
     "start_time": "2022-10-19T15:23:29.661492",
     "status": "completed"
    },
    "tags": []
   },
   "source": [
    "Use the next code cell to print the first five rows of the data."
   ]
  },
  {
   "cell_type": "code",
   "execution_count": 3,
   "id": "509a77e3",
   "metadata": {
    "execution": {
     "iopub.execute_input": "2022-10-19T15:23:29.692367Z",
     "iopub.status.busy": "2022-10-19T15:23:29.691868Z",
     "iopub.status.idle": "2022-10-19T15:23:29.723524Z",
     "shell.execute_reply": "2022-10-19T15:23:29.722331Z"
    },
    "papermill": {
     "duration": 0.045974,
     "end_time": "2022-10-19T15:23:29.726008",
     "exception": false,
     "start_time": "2022-10-19T15:23:29.680034",
     "status": "completed"
    },
    "tags": []
   },
   "outputs": [
    {
     "data": {
      "text/html": [
       "<div>\n",
       "<style scoped>\n",
       "    .dataframe tbody tr th:only-of-type {\n",
       "        vertical-align: middle;\n",
       "    }\n",
       "\n",
       "    .dataframe tbody tr th {\n",
       "        vertical-align: top;\n",
       "    }\n",
       "\n",
       "    .dataframe thead th {\n",
       "        text-align: right;\n",
       "    }\n",
       "</style>\n",
       "<table border=\"1\" class=\"dataframe\">\n",
       "  <thead>\n",
       "    <tr style=\"text-align: right;\">\n",
       "      <th></th>\n",
       "      <th>MSSubClass</th>\n",
       "      <th>MSZoning</th>\n",
       "      <th>LotArea</th>\n",
       "      <th>Street</th>\n",
       "      <th>LotShape</th>\n",
       "      <th>LandContour</th>\n",
       "      <th>Utilities</th>\n",
       "      <th>LotConfig</th>\n",
       "      <th>LandSlope</th>\n",
       "      <th>Neighborhood</th>\n",
       "      <th>...</th>\n",
       "      <th>OpenPorchSF</th>\n",
       "      <th>EnclosedPorch</th>\n",
       "      <th>3SsnPorch</th>\n",
       "      <th>ScreenPorch</th>\n",
       "      <th>PoolArea</th>\n",
       "      <th>MiscVal</th>\n",
       "      <th>MoSold</th>\n",
       "      <th>YrSold</th>\n",
       "      <th>SaleType</th>\n",
       "      <th>SaleCondition</th>\n",
       "    </tr>\n",
       "    <tr>\n",
       "      <th>Id</th>\n",
       "      <th></th>\n",
       "      <th></th>\n",
       "      <th></th>\n",
       "      <th></th>\n",
       "      <th></th>\n",
       "      <th></th>\n",
       "      <th></th>\n",
       "      <th></th>\n",
       "      <th></th>\n",
       "      <th></th>\n",
       "      <th></th>\n",
       "      <th></th>\n",
       "      <th></th>\n",
       "      <th></th>\n",
       "      <th></th>\n",
       "      <th></th>\n",
       "      <th></th>\n",
       "      <th></th>\n",
       "      <th></th>\n",
       "      <th></th>\n",
       "      <th></th>\n",
       "    </tr>\n",
       "  </thead>\n",
       "  <tbody>\n",
       "    <tr>\n",
       "      <th>619</th>\n",
       "      <td>20</td>\n",
       "      <td>RL</td>\n",
       "      <td>11694</td>\n",
       "      <td>Pave</td>\n",
       "      <td>Reg</td>\n",
       "      <td>Lvl</td>\n",
       "      <td>AllPub</td>\n",
       "      <td>Inside</td>\n",
       "      <td>Gtl</td>\n",
       "      <td>NridgHt</td>\n",
       "      <td>...</td>\n",
       "      <td>108</td>\n",
       "      <td>0</td>\n",
       "      <td>0</td>\n",
       "      <td>260</td>\n",
       "      <td>0</td>\n",
       "      <td>0</td>\n",
       "      <td>7</td>\n",
       "      <td>2007</td>\n",
       "      <td>New</td>\n",
       "      <td>Partial</td>\n",
       "    </tr>\n",
       "    <tr>\n",
       "      <th>871</th>\n",
       "      <td>20</td>\n",
       "      <td>RL</td>\n",
       "      <td>6600</td>\n",
       "      <td>Pave</td>\n",
       "      <td>Reg</td>\n",
       "      <td>Lvl</td>\n",
       "      <td>AllPub</td>\n",
       "      <td>Inside</td>\n",
       "      <td>Gtl</td>\n",
       "      <td>NAmes</td>\n",
       "      <td>...</td>\n",
       "      <td>0</td>\n",
       "      <td>0</td>\n",
       "      <td>0</td>\n",
       "      <td>0</td>\n",
       "      <td>0</td>\n",
       "      <td>0</td>\n",
       "      <td>8</td>\n",
       "      <td>2009</td>\n",
       "      <td>WD</td>\n",
       "      <td>Normal</td>\n",
       "    </tr>\n",
       "    <tr>\n",
       "      <th>93</th>\n",
       "      <td>30</td>\n",
       "      <td>RL</td>\n",
       "      <td>13360</td>\n",
       "      <td>Pave</td>\n",
       "      <td>IR1</td>\n",
       "      <td>HLS</td>\n",
       "      <td>AllPub</td>\n",
       "      <td>Inside</td>\n",
       "      <td>Gtl</td>\n",
       "      <td>Crawfor</td>\n",
       "      <td>...</td>\n",
       "      <td>0</td>\n",
       "      <td>44</td>\n",
       "      <td>0</td>\n",
       "      <td>0</td>\n",
       "      <td>0</td>\n",
       "      <td>0</td>\n",
       "      <td>8</td>\n",
       "      <td>2009</td>\n",
       "      <td>WD</td>\n",
       "      <td>Normal</td>\n",
       "    </tr>\n",
       "    <tr>\n",
       "      <th>818</th>\n",
       "      <td>20</td>\n",
       "      <td>RL</td>\n",
       "      <td>13265</td>\n",
       "      <td>Pave</td>\n",
       "      <td>IR1</td>\n",
       "      <td>Lvl</td>\n",
       "      <td>AllPub</td>\n",
       "      <td>CulDSac</td>\n",
       "      <td>Gtl</td>\n",
       "      <td>Mitchel</td>\n",
       "      <td>...</td>\n",
       "      <td>59</td>\n",
       "      <td>0</td>\n",
       "      <td>0</td>\n",
       "      <td>0</td>\n",
       "      <td>0</td>\n",
       "      <td>0</td>\n",
       "      <td>7</td>\n",
       "      <td>2008</td>\n",
       "      <td>WD</td>\n",
       "      <td>Normal</td>\n",
       "    </tr>\n",
       "    <tr>\n",
       "      <th>303</th>\n",
       "      <td>20</td>\n",
       "      <td>RL</td>\n",
       "      <td>13704</td>\n",
       "      <td>Pave</td>\n",
       "      <td>IR1</td>\n",
       "      <td>Lvl</td>\n",
       "      <td>AllPub</td>\n",
       "      <td>Corner</td>\n",
       "      <td>Gtl</td>\n",
       "      <td>CollgCr</td>\n",
       "      <td>...</td>\n",
       "      <td>81</td>\n",
       "      <td>0</td>\n",
       "      <td>0</td>\n",
       "      <td>0</td>\n",
       "      <td>0</td>\n",
       "      <td>0</td>\n",
       "      <td>1</td>\n",
       "      <td>2006</td>\n",
       "      <td>WD</td>\n",
       "      <td>Normal</td>\n",
       "    </tr>\n",
       "  </tbody>\n",
       "</table>\n",
       "<p>5 rows × 60 columns</p>\n",
       "</div>"
      ],
      "text/plain": [
       "     MSSubClass MSZoning  LotArea Street LotShape LandContour Utilities  \\\n",
       "Id                                                                        \n",
       "619          20       RL    11694   Pave      Reg         Lvl    AllPub   \n",
       "871          20       RL     6600   Pave      Reg         Lvl    AllPub   \n",
       "93           30       RL    13360   Pave      IR1         HLS    AllPub   \n",
       "818          20       RL    13265   Pave      IR1         Lvl    AllPub   \n",
       "303          20       RL    13704   Pave      IR1         Lvl    AllPub   \n",
       "\n",
       "    LotConfig LandSlope Neighborhood  ... OpenPorchSF EnclosedPorch 3SsnPorch  \\\n",
       "Id                                    ...                                       \n",
       "619    Inside       Gtl      NridgHt  ...         108             0         0   \n",
       "871    Inside       Gtl        NAmes  ...           0             0         0   \n",
       "93     Inside       Gtl      Crawfor  ...           0            44         0   \n",
       "818   CulDSac       Gtl      Mitchel  ...          59             0         0   \n",
       "303    Corner       Gtl      CollgCr  ...          81             0         0   \n",
       "\n",
       "    ScreenPorch  PoolArea  MiscVal  MoSold  YrSold SaleType SaleCondition  \n",
       "Id                                                                         \n",
       "619         260         0        0       7    2007      New       Partial  \n",
       "871           0         0        0       8    2009       WD        Normal  \n",
       "93            0         0        0       8    2009       WD        Normal  \n",
       "818           0         0        0       7    2008       WD        Normal  \n",
       "303           0         0        0       1    2006       WD        Normal  \n",
       "\n",
       "[5 rows x 60 columns]"
      ]
     },
     "execution_count": 3,
     "metadata": {},
     "output_type": "execute_result"
    }
   ],
   "source": [
    "X_train.head()"
   ]
  },
  {
   "cell_type": "markdown",
   "id": "bb6edc88",
   "metadata": {
    "papermill": {
     "duration": 0.009474,
     "end_time": "2022-10-19T15:23:29.745124",
     "exception": false,
     "start_time": "2022-10-19T15:23:29.735650",
     "status": "completed"
    },
    "tags": []
   },
   "source": [
    "Notice that the dataset contains both numerical and categorical variables.  You'll need to encode the categorical data before training a model.\n",
    "\n",
    "To compare different models, you'll use the same `score_dataset()` function from the tutorial.  This function reports the [mean absolute error](https://en.wikipedia.org/wiki/Mean_absolute_error) (MAE) from a random forest model."
   ]
  },
  {
   "cell_type": "code",
   "execution_count": 4,
   "id": "5e9420b8",
   "metadata": {
    "execution": {
     "iopub.execute_input": "2022-10-19T15:23:29.767470Z",
     "iopub.status.busy": "2022-10-19T15:23:29.767016Z",
     "iopub.status.idle": "2022-10-19T15:23:30.016510Z",
     "shell.execute_reply": "2022-10-19T15:23:30.015096Z"
    },
    "papermill": {
     "duration": 0.264299,
     "end_time": "2022-10-19T15:23:30.019481",
     "exception": false,
     "start_time": "2022-10-19T15:23:29.755182",
     "status": "completed"
    },
    "tags": []
   },
   "outputs": [],
   "source": [
    "from sklearn.ensemble import RandomForestRegressor\n",
    "from sklearn.metrics import mean_absolute_error\n",
    "\n",
    "# function for comparing different approaches\n",
    "def score_dataset(X_train, X_valid, y_train, y_valid):\n",
    "    model = RandomForestRegressor(n_estimators=100, random_state=0)\n",
    "    model.fit(X_train, y_train)\n",
    "    preds = model.predict(X_valid)\n",
    "    return mean_absolute_error(y_valid, preds)"
   ]
  },
  {
   "cell_type": "markdown",
   "id": "d4f900f6",
   "metadata": {
    "papermill": {
     "duration": 0.009763,
     "end_time": "2022-10-19T15:23:30.039271",
     "exception": false,
     "start_time": "2022-10-19T15:23:30.029508",
     "status": "completed"
    },
    "tags": []
   },
   "source": [
    "# Step 1: Drop columns with categorical data\n",
    "\n",
    "You'll get started with the most straightforward approach.  Use the code cell below to preprocess the data in `X_train` and `X_valid` to remove columns with categorical data.  Set the preprocessed DataFrames to `drop_X_train` and `drop_X_valid`, respectively.  "
   ]
  },
  {
   "cell_type": "code",
   "execution_count": 5,
   "id": "5bf2bf6e",
   "metadata": {
    "execution": {
     "iopub.execute_input": "2022-10-19T15:23:30.061341Z",
     "iopub.status.busy": "2022-10-19T15:23:30.060868Z",
     "iopub.status.idle": "2022-10-19T15:23:30.076314Z",
     "shell.execute_reply": "2022-10-19T15:23:30.075152Z"
    },
    "papermill": {
     "duration": 0.029959,
     "end_time": "2022-10-19T15:23:30.079072",
     "exception": false,
     "start_time": "2022-10-19T15:23:30.049113",
     "status": "completed"
    },
    "tags": []
   },
   "outputs": [
    {
     "data": {
      "application/javascript": [
       "parent.postMessage({\"jupyterEvent\": \"custom.exercise_interaction\", \"data\": {\"outcomeType\": 1, \"valueTowardsCompletion\": 0.5, \"interactionType\": 1, \"questionType\": 2, \"questionId\": \"1_Drop\", \"learnToolsVersion\": \"0.3.4\", \"failureMessage\": \"\", \"exceptionClass\": \"\", \"trace\": \"\"}}, \"*\")"
      ],
      "text/plain": [
       "<IPython.core.display.Javascript object>"
      ]
     },
     "metadata": {},
     "output_type": "display_data"
    },
    {
     "data": {
      "text/markdown": [
       "<span style=\"color:#33cc33\">Correct</span>"
      ],
      "text/plain": [
       "Correct"
      ]
     },
     "metadata": {},
     "output_type": "display_data"
    }
   ],
   "source": [
    "# Fill in the lines below: drop columns in training and validation data\n",
    "drop_X_train = X_train.select_dtypes(exclude=['object'])\n",
    "drop_X_valid = X_valid.select_dtypes(exclude=['object'])\n",
    "\n",
    "# Check your answers\n",
    "step_1.check()"
   ]
  },
  {
   "cell_type": "code",
   "execution_count": 6,
   "id": "0279f38f",
   "metadata": {
    "execution": {
     "iopub.execute_input": "2022-10-19T15:23:30.101930Z",
     "iopub.status.busy": "2022-10-19T15:23:30.101440Z",
     "iopub.status.idle": "2022-10-19T15:23:30.107220Z",
     "shell.execute_reply": "2022-10-19T15:23:30.105616Z"
    },
    "papermill": {
     "duration": 0.020091,
     "end_time": "2022-10-19T15:23:30.109735",
     "exception": false,
     "start_time": "2022-10-19T15:23:30.089644",
     "status": "completed"
    },
    "tags": []
   },
   "outputs": [],
   "source": [
    "# Lines below will give you a hint or solution code\n",
    "#step_1.hint()\n",
    "#step_1.solution()"
   ]
  },
  {
   "cell_type": "markdown",
   "id": "e17c513b",
   "metadata": {
    "papermill": {
     "duration": 0.009685,
     "end_time": "2022-10-19T15:23:30.129601",
     "exception": false,
     "start_time": "2022-10-19T15:23:30.119916",
     "status": "completed"
    },
    "tags": []
   },
   "source": [
    "Run the next code cell to get the MAE for this approach."
   ]
  },
  {
   "cell_type": "code",
   "execution_count": 7,
   "id": "06bfd242",
   "metadata": {
    "execution": {
     "iopub.execute_input": "2022-10-19T15:23:30.152683Z",
     "iopub.status.busy": "2022-10-19T15:23:30.152150Z",
     "iopub.status.idle": "2022-10-19T15:23:31.286920Z",
     "shell.execute_reply": "2022-10-19T15:23:31.285378Z"
    },
    "papermill": {
     "duration": 1.152975,
     "end_time": "2022-10-19T15:23:31.293087",
     "exception": false,
     "start_time": "2022-10-19T15:23:30.140112",
     "status": "completed"
    },
    "tags": []
   },
   "outputs": [
    {
     "name": "stdout",
     "output_type": "stream",
     "text": [
      "MAE from Approach 1 (Drop categorical variables):\n",
      "17837.82570776256\n"
     ]
    }
   ],
   "source": [
    "print(\"MAE from Approach 1 (Drop categorical variables):\")\n",
    "print(score_dataset(drop_X_train, drop_X_valid, y_train, y_valid))"
   ]
  },
  {
   "cell_type": "markdown",
   "id": "49d0a217",
   "metadata": {
    "papermill": {
     "duration": 0.011099,
     "end_time": "2022-10-19T15:23:31.316204",
     "exception": false,
     "start_time": "2022-10-19T15:23:31.305105",
     "status": "completed"
    },
    "tags": []
   },
   "source": [
    "Before jumping into ordinal encoding, we'll investigate the dataset.  Specifically, we'll look at the `'Condition2'` column.  The code cell below prints the unique entries in both the training and validation sets."
   ]
  },
  {
   "cell_type": "code",
   "execution_count": 8,
   "id": "fb8b2215",
   "metadata": {
    "execution": {
     "iopub.execute_input": "2022-10-19T15:23:31.339650Z",
     "iopub.status.busy": "2022-10-19T15:23:31.339216Z",
     "iopub.status.idle": "2022-10-19T15:23:31.347719Z",
     "shell.execute_reply": "2022-10-19T15:23:31.345993Z"
    },
    "papermill": {
     "duration": 0.02363,
     "end_time": "2022-10-19T15:23:31.350633",
     "exception": false,
     "start_time": "2022-10-19T15:23:31.327003",
     "status": "completed"
    },
    "tags": []
   },
   "outputs": [
    {
     "name": "stdout",
     "output_type": "stream",
     "text": [
      "Unique values in 'Condition2' column in training data: ['Norm' 'PosA' 'Feedr' 'PosN' 'Artery' 'RRAe']\n",
      "\n",
      "Unique values in 'Condition2' column in validation data: ['Norm' 'RRAn' 'RRNn' 'Artery' 'Feedr' 'PosN']\n"
     ]
    }
   ],
   "source": [
    "print(\"Unique values in 'Condition2' column in training data:\", X_train['Condition2'].unique())\n",
    "print(\"\\nUnique values in 'Condition2' column in validation data:\", X_valid['Condition2'].unique())"
   ]
  },
  {
   "cell_type": "markdown",
   "id": "2ac114f9",
   "metadata": {
    "papermill": {
     "duration": 0.010301,
     "end_time": "2022-10-19T15:23:31.371479",
     "exception": false,
     "start_time": "2022-10-19T15:23:31.361178",
     "status": "completed"
    },
    "tags": []
   },
   "source": [
    "# Step 2: Ordinal encoding\n",
    "\n",
    "### Part A\n",
    "\n",
    "If you now write code to: \n",
    "- fit an ordinal encoder to the training data, and then \n",
    "- use it to transform both the training and validation data, \n",
    "\n",
    "you'll get an error.  Can you see why this is the case?  (_You'll need  to use the above output to answer this question._)"
   ]
  },
  {
   "cell_type": "code",
   "execution_count": 9,
   "id": "19705760",
   "metadata": {
    "execution": {
     "iopub.execute_input": "2022-10-19T15:23:31.394499Z",
     "iopub.status.busy": "2022-10-19T15:23:31.394037Z",
     "iopub.status.idle": "2022-10-19T15:23:31.403156Z",
     "shell.execute_reply": "2022-10-19T15:23:31.402183Z"
    },
    "papermill": {
     "duration": 0.023547,
     "end_time": "2022-10-19T15:23:31.405590",
     "exception": false,
     "start_time": "2022-10-19T15:23:31.382043",
     "status": "completed"
    },
    "tags": []
   },
   "outputs": [
    {
     "data": {
      "application/javascript": [
       "parent.postMessage({\"jupyterEvent\": \"custom.exercise_interaction\", \"data\": {\"outcomeType\": 1, \"valueTowardsCompletion\": 0.5, \"interactionType\": 1, \"questionType\": 4, \"questionId\": \"2.1_LabelA\", \"learnToolsVersion\": \"0.3.4\", \"failureMessage\": \"\", \"exceptionClass\": \"\", \"trace\": \"\"}}, \"*\")"
      ],
      "text/plain": [
       "<IPython.core.display.Javascript object>"
      ]
     },
     "metadata": {},
     "output_type": "display_data"
    },
    {
     "data": {
      "text/markdown": [
       "<span style=\"color:#33cc33\">Correct:</span> \n",
       "\n",
       "Fitting an ordinal encoder to a column in the training data creates a corresponding integer-valued label for each unique value **that appears in the training data**. In the case that the validation data contains values that don't also appear in the training data, the encoder will throw an error, because these values won't have an integer assigned to them.  Notice that the `'Condition2'` column in the validation data contains the values `'RRAn'` and `'RRNn'`, but these don't appear in the training data -- thus, if we try to use an ordinal encoder with scikit-learn, the code will throw an error."
      ],
      "text/plain": [
       "Correct: \n",
       "\n",
       "Fitting an ordinal encoder to a column in the training data creates a corresponding integer-valued label for each unique value **that appears in the training data**. In the case that the validation data contains values that don't also appear in the training data, the encoder will throw an error, because these values won't have an integer assigned to them.  Notice that the `'Condition2'` column in the validation data contains the values `'RRAn'` and `'RRNn'`, but these don't appear in the training data -- thus, if we try to use an ordinal encoder with scikit-learn, the code will throw an error."
      ]
     },
     "metadata": {},
     "output_type": "display_data"
    }
   ],
   "source": [
    "# Check your answer (Run this code cell to receive credit!)\n",
    "step_2.a.check()"
   ]
  },
  {
   "cell_type": "code",
   "execution_count": 10,
   "id": "81b00d0f",
   "metadata": {
    "execution": {
     "iopub.execute_input": "2022-10-19T15:23:31.429303Z",
     "iopub.status.busy": "2022-10-19T15:23:31.428839Z",
     "iopub.status.idle": "2022-10-19T15:23:31.433915Z",
     "shell.execute_reply": "2022-10-19T15:23:31.432630Z"
    },
    "papermill": {
     "duration": 0.020181,
     "end_time": "2022-10-19T15:23:31.436415",
     "exception": false,
     "start_time": "2022-10-19T15:23:31.416234",
     "status": "completed"
    },
    "tags": []
   },
   "outputs": [],
   "source": [
    "#step_2.a.hint()"
   ]
  },
  {
   "cell_type": "markdown",
   "id": "b58c8d88",
   "metadata": {
    "papermill": {
     "duration": 0.010231,
     "end_time": "2022-10-19T15:23:31.457484",
     "exception": false,
     "start_time": "2022-10-19T15:23:31.447253",
     "status": "completed"
    },
    "tags": []
   },
   "source": [
    "This is a common problem that you'll encounter with real-world data, and there are many approaches to fixing this issue.  For instance, you can write a custom ordinal encoder to deal with new categories.  The simplest approach, however, is to drop the problematic categorical columns.  \n",
    "\n",
    "Run the code cell below to save the problematic columns to a Python list `bad_label_cols`.  Likewise, columns that can be safely ordinal encoded are stored in `good_label_cols`."
   ]
  },
  {
   "cell_type": "code",
   "execution_count": 11,
   "id": "7872b3c1",
   "metadata": {
    "execution": {
     "iopub.execute_input": "2022-10-19T15:23:31.481289Z",
     "iopub.status.busy": "2022-10-19T15:23:31.480827Z",
     "iopub.status.idle": "2022-10-19T15:23:31.497353Z",
     "shell.execute_reply": "2022-10-19T15:23:31.495847Z"
    },
    "papermill": {
     "duration": 0.032438,
     "end_time": "2022-10-19T15:23:31.500843",
     "exception": false,
     "start_time": "2022-10-19T15:23:31.468405",
     "status": "completed"
    },
    "tags": []
   },
   "outputs": [
    {
     "name": "stdout",
     "output_type": "stream",
     "text": [
      "Categorical columns that will be ordinal encoded: ['MSZoning', 'Street', 'LotShape', 'LandContour', 'Utilities', 'LotConfig', 'LandSlope', 'Neighborhood', 'Condition1', 'BldgType', 'HouseStyle', 'RoofStyle', 'Exterior1st', 'Exterior2nd', 'ExterQual', 'ExterCond', 'Foundation', 'Heating', 'HeatingQC', 'CentralAir', 'KitchenQual', 'PavedDrive', 'SaleType', 'SaleCondition']\n",
      "\n",
      "Categorical columns that will be dropped from the dataset: ['RoofMatl', 'Functional', 'Condition2']\n"
     ]
    }
   ],
   "source": [
    "# Categorical columns in the training data\n",
    "object_cols = [col for col in X_train.columns if X_train[col].dtype == \"object\"]\n",
    "\n",
    "# Columns that can be safely ordinal encoded\n",
    "good_label_cols = [col for col in object_cols if \n",
    "                   set(X_valid[col]).issubset(set(X_train[col]))]\n",
    "        \n",
    "# Problematic columns that will be dropped from the dataset\n",
    "bad_label_cols = list(set(object_cols)-set(good_label_cols))\n",
    "        \n",
    "print('Categorical columns that will be ordinal encoded:', good_label_cols)\n",
    "print('\\nCategorical columns that will be dropped from the dataset:', bad_label_cols)"
   ]
  },
  {
   "cell_type": "markdown",
   "id": "38a3fdb7",
   "metadata": {
    "papermill": {
     "duration": 0.010601,
     "end_time": "2022-10-19T15:23:31.522799",
     "exception": false,
     "start_time": "2022-10-19T15:23:31.512198",
     "status": "completed"
    },
    "tags": []
   },
   "source": [
    "### Part B\n",
    "\n",
    "Use the next code cell to ordinal encode the data in `X_train` and `X_valid`.  Set the preprocessed DataFrames to `label_X_train` and `label_X_valid`, respectively.  \n",
    "- We have provided code below to drop the categorical columns in `bad_label_cols` from the dataset. \n",
    "- You should ordinal encode the categorical columns in `good_label_cols`.  "
   ]
  },
  {
   "cell_type": "code",
   "execution_count": 12,
   "id": "22f0f527",
   "metadata": {
    "execution": {
     "iopub.execute_input": "2022-10-19T15:23:31.546539Z",
     "iopub.status.busy": "2022-10-19T15:23:31.546116Z",
     "iopub.status.idle": "2022-10-19T15:23:31.597380Z",
     "shell.execute_reply": "2022-10-19T15:23:31.596057Z"
    },
    "papermill": {
     "duration": 0.066733,
     "end_time": "2022-10-19T15:23:31.600052",
     "exception": false,
     "start_time": "2022-10-19T15:23:31.533319",
     "status": "completed"
    },
    "tags": []
   },
   "outputs": [
    {
     "data": {
      "application/javascript": [
       "parent.postMessage({\"jupyterEvent\": \"custom.exercise_interaction\", \"data\": {\"outcomeType\": 1, \"valueTowardsCompletion\": 0.5, \"interactionType\": 1, \"questionType\": 2, \"questionId\": \"2.2_LabelB\", \"learnToolsVersion\": \"0.3.4\", \"failureMessage\": \"\", \"exceptionClass\": \"\", \"trace\": \"\"}}, \"*\")"
      ],
      "text/plain": [
       "<IPython.core.display.Javascript object>"
      ]
     },
     "metadata": {},
     "output_type": "display_data"
    },
    {
     "data": {
      "text/markdown": [
       "<span style=\"color:#33cc33\">Correct</span>"
      ],
      "text/plain": [
       "Correct"
      ]
     },
     "metadata": {},
     "output_type": "display_data"
    }
   ],
   "source": [
    "from sklearn.preprocessing import OrdinalEncoder\n",
    "\n",
    "# Drop categorical columns that will not be encoded\n",
    "label_X_train = X_train.drop(bad_label_cols, axis=1)\n",
    "label_X_valid = X_valid.drop(bad_label_cols, axis=1)\n",
    "\n",
    "# Apply ordinal encoder \n",
    "ordinal_encoder=OrdinalEncoder()\n",
    "label_X_train[good_label_cols]=ordinal_encoder.fit_transform(X_train[good_label_cols])\n",
    "label_X_valid[good_label_cols]=ordinal_encoder.transform(X_valid[good_label_cols])\n",
    "# Check your answer\n",
    "step_2.b.check()"
   ]
  },
  {
   "cell_type": "code",
   "execution_count": 13,
   "id": "1b704284",
   "metadata": {
    "execution": {
     "iopub.execute_input": "2022-10-19T15:23:31.623853Z",
     "iopub.status.busy": "2022-10-19T15:23:31.623437Z",
     "iopub.status.idle": "2022-10-19T15:23:31.628860Z",
     "shell.execute_reply": "2022-10-19T15:23:31.627180Z"
    },
    "papermill": {
     "duration": 0.020387,
     "end_time": "2022-10-19T15:23:31.631235",
     "exception": false,
     "start_time": "2022-10-19T15:23:31.610848",
     "status": "completed"
    },
    "tags": []
   },
   "outputs": [],
   "source": [
    "# Lines below will give you a hint or solution code\n",
    "#step_2.b.hint()\n",
    "#step_2.b.solution()"
   ]
  },
  {
   "cell_type": "markdown",
   "id": "775a5f1e",
   "metadata": {
    "papermill": {
     "duration": 0.010423,
     "end_time": "2022-10-19T15:23:31.652339",
     "exception": false,
     "start_time": "2022-10-19T15:23:31.641916",
     "status": "completed"
    },
    "tags": []
   },
   "source": [
    "Run the next code cell to get the MAE for this approach."
   ]
  },
  {
   "cell_type": "code",
   "execution_count": 14,
   "id": "03f827fb",
   "metadata": {
    "execution": {
     "iopub.execute_input": "2022-10-19T15:23:31.675578Z",
     "iopub.status.busy": "2022-10-19T15:23:31.675199Z",
     "iopub.status.idle": "2022-10-19T15:23:33.138402Z",
     "shell.execute_reply": "2022-10-19T15:23:33.137423Z"
    },
    "papermill": {
     "duration": 1.478376,
     "end_time": "2022-10-19T15:23:33.141452",
     "exception": false,
     "start_time": "2022-10-19T15:23:31.663076",
     "status": "completed"
    },
    "tags": []
   },
   "outputs": [
    {
     "name": "stdout",
     "output_type": "stream",
     "text": [
      "MAE from Approach 2 (Ordinal Encoding):\n",
      "17098.01649543379\n"
     ]
    }
   ],
   "source": [
    "print(\"MAE from Approach 2 (Ordinal Encoding):\") \n",
    "print(score_dataset(label_X_train, label_X_valid, y_train, y_valid))"
   ]
  },
  {
   "cell_type": "markdown",
   "id": "1125c196",
   "metadata": {
    "papermill": {
     "duration": 0.010871,
     "end_time": "2022-10-19T15:23:33.163882",
     "exception": false,
     "start_time": "2022-10-19T15:23:33.153011",
     "status": "completed"
    },
    "tags": []
   },
   "source": [
    "So far, you've tried two different approaches to dealing with categorical variables.  And, you've seen that encoding categorical data yields better results than removing columns from the dataset.\n",
    "\n",
    "Soon, you'll try one-hot encoding.  Before then, there's one additional topic we need to cover.  Begin by running the next code cell without changes.  "
   ]
  },
  {
   "cell_type": "code",
   "execution_count": 15,
   "id": "a53fca3f",
   "metadata": {
    "execution": {
     "iopub.execute_input": "2022-10-19T15:23:33.188139Z",
     "iopub.status.busy": "2022-10-19T15:23:33.187328Z",
     "iopub.status.idle": "2022-10-19T15:23:33.204066Z",
     "shell.execute_reply": "2022-10-19T15:23:33.202899Z"
    },
    "papermill": {
     "duration": 0.031885,
     "end_time": "2022-10-19T15:23:33.206979",
     "exception": false,
     "start_time": "2022-10-19T15:23:33.175094",
     "status": "completed"
    },
    "tags": []
   },
   "outputs": [
    {
     "data": {
      "text/plain": [
       "[('Street', 2),\n",
       " ('Utilities', 2),\n",
       " ('CentralAir', 2),\n",
       " ('LandSlope', 3),\n",
       " ('PavedDrive', 3),\n",
       " ('LotShape', 4),\n",
       " ('LandContour', 4),\n",
       " ('ExterQual', 4),\n",
       " ('KitchenQual', 4),\n",
       " ('MSZoning', 5),\n",
       " ('LotConfig', 5),\n",
       " ('BldgType', 5),\n",
       " ('ExterCond', 5),\n",
       " ('HeatingQC', 5),\n",
       " ('Condition2', 6),\n",
       " ('RoofStyle', 6),\n",
       " ('Foundation', 6),\n",
       " ('Heating', 6),\n",
       " ('Functional', 6),\n",
       " ('SaleCondition', 6),\n",
       " ('RoofMatl', 7),\n",
       " ('HouseStyle', 8),\n",
       " ('Condition1', 9),\n",
       " ('SaleType', 9),\n",
       " ('Exterior1st', 15),\n",
       " ('Exterior2nd', 16),\n",
       " ('Neighborhood', 25)]"
      ]
     },
     "execution_count": 15,
     "metadata": {},
     "output_type": "execute_result"
    }
   ],
   "source": [
    "# Get number of unique entries in each column with categorical data\n",
    "object_nunique = list(map(lambda col: X_train[col].nunique(), object_cols))\n",
    "d = dict(zip(object_cols, object_nunique))\n",
    "\n",
    "# Print number of unique entries by column, in ascending order\n",
    "sorted(d.items(), key=lambda x: x[1])"
   ]
  },
  {
   "cell_type": "markdown",
   "id": "fbfdc4b3",
   "metadata": {
    "papermill": {
     "duration": 0.010708,
     "end_time": "2022-10-19T15:23:33.228908",
     "exception": false,
     "start_time": "2022-10-19T15:23:33.218200",
     "status": "completed"
    },
    "tags": []
   },
   "source": [
    "# Step 3: Investigating cardinality\n",
    "\n",
    "### Part A\n",
    "\n",
    "The output above shows, for each column with categorical data, the number of unique values in the column.  For instance, the `'Street'` column in the training data has two unique values: `'Grvl'` and `'Pave'`, corresponding to a gravel road and a paved road, respectively.\n",
    "\n",
    "We refer to the number of unique entries of a categorical variable as the **cardinality** of that categorical variable.  For instance, the `'Street'` variable has cardinality 2.\n",
    "\n",
    "Use the output above to answer the questions below."
   ]
  },
  {
   "cell_type": "code",
   "execution_count": 16,
   "id": "acb04452",
   "metadata": {
    "execution": {
     "iopub.execute_input": "2022-10-19T15:23:33.252677Z",
     "iopub.status.busy": "2022-10-19T15:23:33.252254Z",
     "iopub.status.idle": "2022-10-19T15:23:33.262413Z",
     "shell.execute_reply": "2022-10-19T15:23:33.260946Z"
    },
    "papermill": {
     "duration": 0.025048,
     "end_time": "2022-10-19T15:23:33.264928",
     "exception": false,
     "start_time": "2022-10-19T15:23:33.239880",
     "status": "completed"
    },
    "tags": []
   },
   "outputs": [
    {
     "data": {
      "application/javascript": [
       "parent.postMessage({\"jupyterEvent\": \"custom.exercise_interaction\", \"data\": {\"outcomeType\": 1, \"valueTowardsCompletion\": 0.5, \"interactionType\": 1, \"questionType\": 1, \"questionId\": \"3.1_CardinalityA\", \"learnToolsVersion\": \"0.3.4\", \"failureMessage\": \"\", \"exceptionClass\": \"\", \"trace\": \"\"}}, \"*\")"
      ],
      "text/plain": [
       "<IPython.core.display.Javascript object>"
      ]
     },
     "metadata": {},
     "output_type": "display_data"
    },
    {
     "data": {
      "text/markdown": [
       "<span style=\"color:#33cc33\">Correct</span>"
      ],
      "text/plain": [
       "Correct"
      ]
     },
     "metadata": {},
     "output_type": "display_data"
    }
   ],
   "source": [
    "# Fill in the line below: How many categorical variables in the training data\n",
    "# have cardinality greater than 10?\n",
    "high_cardinality_numcols = 3\n",
    "\n",
    "# Fill in the line below: How many columns are needed to one-hot encode the \n",
    "# 'Neighborhood' variable in the training data?\n",
    "num_cols_neighborhood = 25\n",
    "\n",
    "# Check your answers\n",
    "step_3.a.check()"
   ]
  },
  {
   "cell_type": "code",
   "execution_count": 17,
   "id": "64e71ada",
   "metadata": {
    "execution": {
     "iopub.execute_input": "2022-10-19T15:23:33.290319Z",
     "iopub.status.busy": "2022-10-19T15:23:33.289937Z",
     "iopub.status.idle": "2022-10-19T15:23:33.294278Z",
     "shell.execute_reply": "2022-10-19T15:23:33.293088Z"
    },
    "papermill": {
     "duration": 0.020675,
     "end_time": "2022-10-19T15:23:33.297572",
     "exception": false,
     "start_time": "2022-10-19T15:23:33.276897",
     "status": "completed"
    },
    "tags": []
   },
   "outputs": [],
   "source": [
    "# Lines below will give you a hint or solution code\n",
    "#step_3.a.hint()\n",
    "#step_3.a.solution()"
   ]
  },
  {
   "cell_type": "markdown",
   "id": "84bdfcfa",
   "metadata": {
    "papermill": {
     "duration": 0.011346,
     "end_time": "2022-10-19T15:23:33.320722",
     "exception": false,
     "start_time": "2022-10-19T15:23:33.309376",
     "status": "completed"
    },
    "tags": []
   },
   "source": [
    "### Part B\n",
    "\n",
    "For large datasets with many rows, one-hot encoding can greatly expand the size of the dataset.  For this reason, we typically will only one-hot encode columns with relatively low cardinality.  Then, high cardinality columns can either be dropped from the dataset, or we can use ordinal encoding.\n",
    "\n",
    "As an example, consider a dataset with 10,000 rows, and containing one categorical column with 100 unique entries.  \n",
    "- If this column is replaced with the corresponding one-hot encoding, how many entries are added to the dataset?  \n",
    "- If we instead replace the column with the ordinal encoding, how many entries are added?  \n",
    "\n",
    "Use your answers to fill in the lines below."
   ]
  },
  {
   "cell_type": "code",
   "execution_count": 18,
   "id": "0470a613",
   "metadata": {
    "execution": {
     "iopub.execute_input": "2022-10-19T15:23:33.346537Z",
     "iopub.status.busy": "2022-10-19T15:23:33.345784Z",
     "iopub.status.idle": "2022-10-19T15:23:33.356603Z",
     "shell.execute_reply": "2022-10-19T15:23:33.355071Z"
    },
    "papermill": {
     "duration": 0.026415,
     "end_time": "2022-10-19T15:23:33.359281",
     "exception": false,
     "start_time": "2022-10-19T15:23:33.332866",
     "status": "completed"
    },
    "tags": []
   },
   "outputs": [
    {
     "data": {
      "application/javascript": [
       "parent.postMessage({\"jupyterEvent\": \"custom.exercise_interaction\", \"data\": {\"outcomeType\": 1, \"valueTowardsCompletion\": 0.5, \"interactionType\": 1, \"questionType\": 1, \"questionId\": \"3.2_CardinalityB\", \"learnToolsVersion\": \"0.3.4\", \"failureMessage\": \"\", \"exceptionClass\": \"\", \"trace\": \"\"}}, \"*\")"
      ],
      "text/plain": [
       "<IPython.core.display.Javascript object>"
      ]
     },
     "metadata": {},
     "output_type": "display_data"
    },
    {
     "data": {
      "text/markdown": [
       "<span style=\"color:#33cc33\">Correct</span>"
      ],
      "text/plain": [
       "Correct"
      ]
     },
     "metadata": {},
     "output_type": "display_data"
    }
   ],
   "source": [
    "# Fill in the line below: How many entries are added to the dataset by \n",
    "# replacing the column with a one-hot encoding?\n",
    "OH_entries_added = 1e4*100-1e4\n",
    "\n",
    "# Fill in the line below: How many entries are added to the dataset by\n",
    "# replacing the column with an ordinal encoding?\n",
    "label_entries_added = 0\n",
    "\n",
    "# Check your answers\n",
    "step_3.b.check()"
   ]
  },
  {
   "cell_type": "code",
   "execution_count": 19,
   "id": "cb8da33b",
   "metadata": {
    "execution": {
     "iopub.execute_input": "2022-10-19T15:23:33.385510Z",
     "iopub.status.busy": "2022-10-19T15:23:33.385050Z",
     "iopub.status.idle": "2022-10-19T15:23:33.390445Z",
     "shell.execute_reply": "2022-10-19T15:23:33.389072Z"
    },
    "papermill": {
     "duration": 0.021534,
     "end_time": "2022-10-19T15:23:33.393438",
     "exception": false,
     "start_time": "2022-10-19T15:23:33.371904",
     "status": "completed"
    },
    "tags": []
   },
   "outputs": [],
   "source": [
    "# Lines below will give you a hint or solution code\n",
    "#step_3.b.hint()\n",
    "#step_3.b.solution()"
   ]
  },
  {
   "cell_type": "markdown",
   "id": "bcd4e259",
   "metadata": {
    "papermill": {
     "duration": 0.012008,
     "end_time": "2022-10-19T15:23:33.417290",
     "exception": false,
     "start_time": "2022-10-19T15:23:33.405282",
     "status": "completed"
    },
    "tags": []
   },
   "source": [
    "Next, you'll experiment with one-hot encoding.  But, instead of encoding all of the categorical variables in the dataset, you'll only create a one-hot encoding for columns with cardinality less than 10.\n",
    "\n",
    "Run the code cell below without changes to set `low_cardinality_cols` to a Python list containing the columns that will be one-hot encoded.  Likewise, `high_cardinality_cols` contains a list of categorical columns that will be dropped from the dataset."
   ]
  },
  {
   "cell_type": "code",
   "execution_count": 20,
   "id": "09031f8b",
   "metadata": {
    "execution": {
     "iopub.execute_input": "2022-10-19T15:23:33.443924Z",
     "iopub.status.busy": "2022-10-19T15:23:33.443443Z",
     "iopub.status.idle": "2022-10-19T15:23:33.458341Z",
     "shell.execute_reply": "2022-10-19T15:23:33.456427Z"
    },
    "papermill": {
     "duration": 0.033186,
     "end_time": "2022-10-19T15:23:33.462929",
     "exception": false,
     "start_time": "2022-10-19T15:23:33.429743",
     "status": "completed"
    },
    "tags": []
   },
   "outputs": [
    {
     "name": "stdout",
     "output_type": "stream",
     "text": [
      "Categorical columns that will be one-hot encoded: ['MSZoning', 'Street', 'LotShape', 'LandContour', 'Utilities', 'LotConfig', 'LandSlope', 'Condition1', 'Condition2', 'BldgType', 'HouseStyle', 'RoofStyle', 'RoofMatl', 'ExterQual', 'ExterCond', 'Foundation', 'Heating', 'HeatingQC', 'CentralAir', 'KitchenQual', 'Functional', 'PavedDrive', 'SaleType', 'SaleCondition']\n",
      "\n",
      "Categorical columns that will be dropped from the dataset: ['Exterior1st', 'Exterior2nd', 'Neighborhood']\n"
     ]
    }
   ],
   "source": [
    "# Columns that will be one-hot encoded\n",
    "low_cardinality_cols = [col for col in object_cols if X_train[col].nunique() < 10]\n",
    "\n",
    "# Columns that will be dropped from the dataset\n",
    "high_cardinality_cols = list(set(object_cols)-set(low_cardinality_cols))\n",
    "\n",
    "print('Categorical columns that will be one-hot encoded:', low_cardinality_cols)\n",
    "print('\\nCategorical columns that will be dropped from the dataset:', high_cardinality_cols)"
   ]
  },
  {
   "cell_type": "markdown",
   "id": "323020fc",
   "metadata": {
    "papermill": {
     "duration": 0.011623,
     "end_time": "2022-10-19T15:23:33.487689",
     "exception": false,
     "start_time": "2022-10-19T15:23:33.476066",
     "status": "completed"
    },
    "tags": []
   },
   "source": [
    "# Step 4: One-hot encoding\n",
    "\n",
    "Use the next code cell to one-hot encode the data in `X_train` and `X_valid`.  Set the preprocessed DataFrames to `OH_X_train` and `OH_X_valid`, respectively.  \n",
    "- The full list of categorical columns in the dataset can be found in the Python list `object_cols`.\n",
    "- You should only one-hot encode the categorical columns in `low_cardinality_cols`.  All other categorical columns should be dropped from the dataset. "
   ]
  },
  {
   "cell_type": "code",
   "execution_count": 21,
   "id": "4132b4dc",
   "metadata": {
    "execution": {
     "iopub.execute_input": "2022-10-19T15:23:33.513341Z",
     "iopub.status.busy": "2022-10-19T15:23:33.512932Z",
     "iopub.status.idle": "2022-10-19T15:23:33.555011Z",
     "shell.execute_reply": "2022-10-19T15:23:33.553725Z"
    },
    "papermill": {
     "duration": 0.058109,
     "end_time": "2022-10-19T15:23:33.557534",
     "exception": false,
     "start_time": "2022-10-19T15:23:33.499425",
     "status": "completed"
    },
    "tags": []
   },
   "outputs": [
    {
     "data": {
      "application/javascript": [
       "parent.postMessage({\"jupyterEvent\": \"custom.exercise_interaction\", \"data\": {\"outcomeType\": 1, \"valueTowardsCompletion\": 0.5, \"interactionType\": 1, \"questionType\": 2, \"questionId\": \"4_OneHot\", \"learnToolsVersion\": \"0.3.4\", \"failureMessage\": \"\", \"exceptionClass\": \"\", \"trace\": \"\"}}, \"*\")"
      ],
      "text/plain": [
       "<IPython.core.display.Javascript object>"
      ]
     },
     "metadata": {},
     "output_type": "display_data"
    },
    {
     "data": {
      "text/markdown": [
       "<span style=\"color:#33cc33\">Correct</span>"
      ],
      "text/plain": [
       "Correct"
      ]
     },
     "metadata": {},
     "output_type": "display_data"
    }
   ],
   "source": [
    "from sklearn.preprocessing import OneHotEncoder\n",
    "# Apply one-hot encoder to each column with categorical data\n",
    "OH_encoder=OneHotEncoder(handle_unknown='ignore',sparse=False)\n",
    "OH_cols_train=pd.DataFrame(OH_encoder.fit_transform(X_train[low_cardinality_cols]))\n",
    "OH_cols_valid=pd.DataFrame(OH_encoder.transform(X_valid[low_cardinality_cols]))\n",
    "# One-hot encoding removed index; put it back\n",
    "OH_cols_train.index=X_train.index\n",
    "OH_cols_valid.index=X_valid.index\n",
    "# Remove categorical columns (will replace with one-hot encoding)\n",
    "num_X_train=X_train.drop(object_cols,axis=1)\n",
    "num_X_valid=X_valid.drop(object_cols,axis=1)\n",
    "# Use as many lines of code as you need!\n",
    "\n",
    "OH_X_train = pd.concat([num_X_train,OH_cols_train],axis=1)\n",
    "OH_X_valid =pd.concat([num_X_valid,OH_cols_valid],axis=1)\n",
    "\n",
    "# Check your answer\n",
    "step_4.check()"
   ]
  },
  {
   "cell_type": "code",
   "execution_count": 22,
   "id": "b98456ea",
   "metadata": {
    "execution": {
     "iopub.execute_input": "2022-10-19T15:23:33.583394Z",
     "iopub.status.busy": "2022-10-19T15:23:33.582948Z",
     "iopub.status.idle": "2022-10-19T15:23:33.588132Z",
     "shell.execute_reply": "2022-10-19T15:23:33.586490Z"
    },
    "papermill": {
     "duration": 0.021149,
     "end_time": "2022-10-19T15:23:33.590776",
     "exception": false,
     "start_time": "2022-10-19T15:23:33.569627",
     "status": "completed"
    },
    "tags": []
   },
   "outputs": [],
   "source": [
    "# Lines below will give you a hint or solution code\n",
    "#step_4.hint()\n",
    "#step_4.solution()"
   ]
  },
  {
   "cell_type": "markdown",
   "id": "06ae57ae",
   "metadata": {
    "papermill": {
     "duration": 0.011396,
     "end_time": "2022-10-19T15:23:33.614089",
     "exception": false,
     "start_time": "2022-10-19T15:23:33.602693",
     "status": "completed"
    },
    "tags": []
   },
   "source": [
    "Run the next code cell to get the MAE for this approach."
   ]
  },
  {
   "cell_type": "code",
   "execution_count": 23,
   "id": "211e1eab",
   "metadata": {
    "execution": {
     "iopub.execute_input": "2022-10-19T15:23:33.639491Z",
     "iopub.status.busy": "2022-10-19T15:23:33.639048Z",
     "iopub.status.idle": "2022-10-19T15:23:35.496809Z",
     "shell.execute_reply": "2022-10-19T15:23:35.495247Z"
    },
    "papermill": {
     "duration": 1.874068,
     "end_time": "2022-10-19T15:23:35.499893",
     "exception": false,
     "start_time": "2022-10-19T15:23:33.625825",
     "status": "completed"
    },
    "tags": []
   },
   "outputs": [
    {
     "name": "stdout",
     "output_type": "stream",
     "text": [
      "MAE from Approach 3 (One-Hot Encoding):\n"
     ]
    },
    {
     "name": "stderr",
     "output_type": "stream",
     "text": [
      "/opt/conda/lib/python3.7/site-packages/sklearn/utils/validation.py:1692: FutureWarning: Feature names only support names that are all strings. Got feature names with dtypes: ['int', 'str']. An error will be raised in 1.2.\n",
      "  FutureWarning,\n"
     ]
    },
    {
     "name": "stdout",
     "output_type": "stream",
     "text": [
      "17525.345719178084\n"
     ]
    },
    {
     "name": "stderr",
     "output_type": "stream",
     "text": [
      "/opt/conda/lib/python3.7/site-packages/sklearn/utils/validation.py:1692: FutureWarning: Feature names only support names that are all strings. Got feature names with dtypes: ['int', 'str']. An error will be raised in 1.2.\n",
      "  FutureWarning,\n"
     ]
    }
   ],
   "source": [
    "print(\"MAE from Approach 3 (One-Hot Encoding):\") \n",
    "print(score_dataset(OH_X_train, OH_X_valid, y_train, y_valid))"
   ]
  },
  {
   "cell_type": "markdown",
   "id": "444f0cd4",
   "metadata": {
    "papermill": {
     "duration": 0.01149,
     "end_time": "2022-10-19T15:23:35.523935",
     "exception": false,
     "start_time": "2022-10-19T15:23:35.512445",
     "status": "completed"
    },
    "tags": []
   },
   "source": [
    "# Generate test predictions and submit your results\n",
    "\n",
    "After you complete Step 4, if you'd like to use what you've learned to submit your results to the leaderboard, you'll need to preprocess the test data before generating predictions.\n",
    "\n",
    "**This step is completely optional, and you do not need to submit results to the leaderboard to successfully complete the exercise.**\n",
    "\n",
    "Check out the previous exercise if you need help with remembering how to [join the competition](https://www.kaggle.com/c/home-data-for-ml-course) or save your results to CSV.  Once you have generated a file with your results, follow the instructions below:\n",
    "1. Begin by clicking on the **Save Version** button in the top right corner of the window.  This will generate a pop-up window.  \n",
    "2. Ensure that the **Save and Run All** option is selected, and then click on the **Save** button.\n",
    "3. This generates a window in the bottom left corner of the notebook.  After it has finished running, click on the number to the right of the **Save Version** button.  This pulls up a list of versions on the right of the screen.  Click on the ellipsis **(...)** to the right of the most recent version, and select **Open in Viewer**.  This brings you into view mode of the same page. You will need to scroll down to get back to these instructions.\n",
    "4. Click on the **Output** tab on the right of the screen.  Then, click on the file you would like to submit, and click on the **Submit** button to submit your results to the leaderboard.\n",
    "\n",
    "You have now successfully submitted to the competition!\n",
    "\n",
    "If you want to keep working to improve your performance, select the **Edit** button in the top right of the screen. Then you can change your code and repeat the process. There's a lot of room to improve, and you will climb up the leaderboard as you work.\n"
   ]
  },
  {
   "cell_type": "code",
   "execution_count": 24,
   "id": "2d790b99",
   "metadata": {
    "execution": {
     "iopub.execute_input": "2022-10-19T15:23:35.549256Z",
     "iopub.status.busy": "2022-10-19T15:23:35.548846Z",
     "iopub.status.idle": "2022-10-19T15:23:35.554327Z",
     "shell.execute_reply": "2022-10-19T15:23:35.552884Z"
    },
    "papermill": {
     "duration": 0.02109,
     "end_time": "2022-10-19T15:23:35.556788",
     "exception": false,
     "start_time": "2022-10-19T15:23:35.535698",
     "status": "completed"
    },
    "tags": []
   },
   "outputs": [],
   "source": [
    "# (Optional) Your code here"
   ]
  },
  {
   "cell_type": "markdown",
   "id": "5c953398",
   "metadata": {
    "papermill": {
     "duration": 0.012108,
     "end_time": "2022-10-19T15:23:35.580706",
     "exception": false,
     "start_time": "2022-10-19T15:23:35.568598",
     "status": "completed"
    },
    "tags": []
   },
   "source": [
    "# Keep going\n",
    "\n",
    "With missing value handling and categorical encoding, your modeling process is getting complex. This complexity gets worse when you want to save your model to use in the future. The key to managing this complexity is something called **pipelines**. \n",
    "\n",
    "**[Learn to use pipelines](https://www.kaggle.com/alexisbcook/pipelines)** to preprocess datasets with categorical variables, missing values and any other messiness your data throws at you."
   ]
  },
  {
   "cell_type": "markdown",
   "id": "e102991e",
   "metadata": {
    "papermill": {
     "duration": 0.01157,
     "end_time": "2022-10-19T15:23:35.604177",
     "exception": false,
     "start_time": "2022-10-19T15:23:35.592607",
     "status": "completed"
    },
    "tags": []
   },
   "source": [
    "---\n",
    "\n",
    "\n",
    "\n",
    "\n",
    "*Have questions or comments? Visit the [course discussion forum](https://www.kaggle.com/learn/intermediate-machine-learning/discussion) to chat with other learners.*"
   ]
  }
 ],
 "metadata": {
  "kernelspec": {
   "display_name": "Python 3",
   "language": "python",
   "name": "python3"
  },
  "language_info": {
   "codemirror_mode": {
    "name": "ipython",
    "version": 3
   },
   "file_extension": ".py",
   "mimetype": "text/x-python",
   "name": "python",
   "nbconvert_exporter": "python",
   "pygments_lexer": "ipython3",
   "version": "3.7.12"
  },
  "papermill": {
   "default_parameters": {},
   "duration": 19.044242,
   "end_time": "2022-10-19T15:23:36.742425",
   "environment_variables": {},
   "exception": null,
   "input_path": "__notebook__.ipynb",
   "output_path": "__notebook__.ipynb",
   "parameters": {},
   "start_time": "2022-10-19T15:23:17.698183",
   "version": "2.3.4"
  }
 },
 "nbformat": 4,
 "nbformat_minor": 5
}
