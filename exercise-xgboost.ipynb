{
 "cells": [
  {
   "cell_type": "markdown",
   "id": "953020db",
   "metadata": {
    "papermill": {
     "duration": 0.006576,
     "end_time": "2022-10-19T16:39:54.319059",
     "exception": false,
     "start_time": "2022-10-19T16:39:54.312483",
     "status": "completed"
    },
    "tags": []
   },
   "source": [
    "**This notebook is an exercise in the [Intermediate Machine Learning](https://www.kaggle.com/learn/intermediate-machine-learning) course.  You can reference the tutorial at [this link](https://www.kaggle.com/alexisbcook/xgboost).**\n",
    "\n",
    "---\n"
   ]
  },
  {
   "cell_type": "markdown",
   "id": "8f67a86b",
   "metadata": {
    "papermill": {
     "duration": 0.005511,
     "end_time": "2022-10-19T16:39:54.331140",
     "exception": false,
     "start_time": "2022-10-19T16:39:54.325629",
     "status": "completed"
    },
    "tags": []
   },
   "source": [
    "In this exercise, you will use your new knowledge to train a model with **gradient boosting**.\n",
    "\n",
    "# Setup\n",
    "\n",
    "The questions below will give you feedback on your work. Run the following cell to set up the feedback system."
   ]
  },
  {
   "cell_type": "code",
   "execution_count": 1,
   "id": "a3f60ec7",
   "metadata": {
    "execution": {
     "iopub.execute_input": "2022-10-19T16:39:54.344132Z",
     "iopub.status.busy": "2022-10-19T16:39:54.343373Z",
     "iopub.status.idle": "2022-10-19T16:39:56.966046Z",
     "shell.execute_reply": "2022-10-19T16:39:56.964776Z"
    },
    "papermill": {
     "duration": 2.632058,
     "end_time": "2022-10-19T16:39:56.968663",
     "exception": false,
     "start_time": "2022-10-19T16:39:54.336605",
     "status": "completed"
    },
    "tags": []
   },
   "outputs": [
    {
     "name": "stdout",
     "output_type": "stream",
     "text": [
      "Setup Complete\n"
     ]
    }
   ],
   "source": [
    "# Set up code checking\n",
    "import os\n",
    "if not os.path.exists(\"../input/train.csv\"):\n",
    "    os.symlink(\"../input/home-data-for-ml-course/train.csv\", \"../input/train.csv\")  \n",
    "    os.symlink(\"../input/home-data-for-ml-course/test.csv\", \"../input/test.csv\") \n",
    "from learntools.core import binder\n",
    "binder.bind(globals())\n",
    "from learntools.ml_intermediate.ex6 import *\n",
    "print(\"Setup Complete\")"
   ]
  },
  {
   "cell_type": "markdown",
   "id": "9d7b6b9f",
   "metadata": {
    "papermill": {
     "duration": 0.005061,
     "end_time": "2022-10-19T16:39:56.979960",
     "exception": false,
     "start_time": "2022-10-19T16:39:56.974899",
     "status": "completed"
    },
    "tags": []
   },
   "source": [
    "You will work with the [Housing Prices Competition for Kaggle Learn Users](https://www.kaggle.com/c/home-data-for-ml-course) dataset from the previous exercise. \n",
    "\n",
    "![Ames Housing dataset image](https://i.imgur.com/lTJVG4e.png)\n",
    "\n",
    "Run the next code cell without changes to load the training and validation sets in `X_train`, `X_valid`, `y_train`, and `y_valid`.  The test set is loaded in `X_test`."
   ]
  },
  {
   "cell_type": "code",
   "execution_count": 2,
   "id": "096bb66b",
   "metadata": {
    "execution": {
     "iopub.execute_input": "2022-10-19T16:39:56.992120Z",
     "iopub.status.busy": "2022-10-19T16:39:56.991717Z",
     "iopub.status.idle": "2022-10-19T16:39:57.192931Z",
     "shell.execute_reply": "2022-10-19T16:39:57.191660Z"
    },
    "papermill": {
     "duration": 0.210637,
     "end_time": "2022-10-19T16:39:57.195813",
     "exception": false,
     "start_time": "2022-10-19T16:39:56.985176",
     "status": "completed"
    },
    "tags": []
   },
   "outputs": [],
   "source": [
    "import pandas as pd\n",
    "from sklearn.model_selection import train_test_split\n",
    "\n",
    "# Read the data\n",
    "\n",
    "X = pd.read_csv('../input/train.csv', index_col='Id')\n",
    "X_test_full = pd.read_csv('../input/test.csv', index_col='Id')\n",
    "\n",
    "# Remove rows with missing target, separate target from predictors\n",
    "X.dropna(axis=0, subset=['SalePrice'], inplace=True)\n",
    "y = X.SalePrice              \n",
    "X.drop(['SalePrice'], axis=1, inplace=True)\n",
    "\n",
    "# Break off validation set from training data\n",
    "X_train_full, X_valid_full, y_train, y_valid = train_test_split(X, y, train_size=0.8, test_size=0.2,\n",
    "                                                                random_state=0)\n",
    "\n",
    "# \"Cardinality\" means the number of unique values in a column\n",
    "# Select categorical columns with relatively low cardinality (convenient but arbitrary)\n",
    "low_cardinality_cols = [cname for cname in X_train_full.columns if X_train_full[cname].nunique() < 10 and \n",
    "                        X_train_full[cname].dtype == \"object\"]\n",
    "\n",
    "# Select numeric columns\n",
    "numeric_cols = [cname for cname in X_train_full.columns if X_train_full[cname].dtype in ['int64', 'float64']]\n",
    "\n",
    "# Keep selected columns only\n",
    "my_cols = low_cardinality_cols + numeric_cols\n",
    "X_train = X_train_full[my_cols].copy()\n",
    "X_valid = X_valid_full[my_cols].copy()\n",
    "X_test = X_test_full[my_cols].copy()\n",
    "\n",
    "# One-hot encode the data (to shorten the code, we use pandas)\n",
    "X_train = pd.get_dummies(X_train)\n",
    "X_valid = pd.get_dummies(X_valid)\n",
    "X_test = pd.get_dummies(X_test)\n",
    "X_train, X_valid = X_train.align(X_valid, join='left', axis=1)\n",
    "X_train, X_test = X_train.align(X_test, join='left', axis=1)"
   ]
  },
  {
   "cell_type": "markdown",
   "id": "30c38b60",
   "metadata": {
    "papermill": {
     "duration": 0.005591,
     "end_time": "2022-10-19T16:39:57.207018",
     "exception": false,
     "start_time": "2022-10-19T16:39:57.201427",
     "status": "completed"
    },
    "tags": []
   },
   "source": [
    "# Step 1: Build model\n",
    "\n",
    "### Part A\n",
    "\n",
    "In this step, you'll build and train your first model with gradient boosting.\n",
    "\n",
    "- Begin by setting `my_model_1` to an XGBoost model.  Use the [XGBRegressor](https://xgboost.readthedocs.io/en/latest/python/python_api.html#xgboost.XGBRegressor) class, and set the random seed to 0 (`random_state=0`).  **Leave all other parameters as default.**\n",
    "- Then, fit the model to the training data in `X_train` and `y_train`."
   ]
  },
  {
   "cell_type": "code",
   "execution_count": 3,
   "id": "c6c48249",
   "metadata": {
    "execution": {
     "iopub.execute_input": "2022-10-19T16:39:57.219815Z",
     "iopub.status.busy": "2022-10-19T16:39:57.219403Z",
     "iopub.status.idle": "2022-10-19T16:39:58.197825Z",
     "shell.execute_reply": "2022-10-19T16:39:58.196909Z"
    },
    "papermill": {
     "duration": 0.987755,
     "end_time": "2022-10-19T16:39:58.200323",
     "exception": false,
     "start_time": "2022-10-19T16:39:57.212568",
     "status": "completed"
    },
    "tags": []
   },
   "outputs": [
    {
     "data": {
      "application/javascript": [
       "parent.postMessage({\"jupyterEvent\": \"custom.exercise_interaction\", \"data\": {\"outcomeType\": 1, \"valueTowardsCompletion\": 0.5, \"interactionType\": 1, \"questionType\": 2, \"questionId\": \"1.1_Model1A\", \"learnToolsVersion\": \"0.3.4\", \"failureMessage\": \"\", \"exceptionClass\": \"\", \"trace\": \"\"}}, \"*\")"
      ],
      "text/plain": [
       "<IPython.core.display.Javascript object>"
      ]
     },
     "metadata": {},
     "output_type": "display_data"
    },
    {
     "data": {
      "text/markdown": [
       "<span style=\"color:#33cc33\">Correct</span>"
      ],
      "text/plain": [
       "Correct"
      ]
     },
     "metadata": {},
     "output_type": "display_data"
    }
   ],
   "source": [
    "from xgboost import XGBRegressor\n",
    "\n",
    "# Define the model\n",
    "my_model_1 = XGBRegressor()\n",
    "\n",
    "# Fit the model\n",
    "my_model_1.fit(X_train,y_train)\n",
    "\n",
    "# Check your answer\n",
    "step_1.a.check()"
   ]
  },
  {
   "cell_type": "code",
   "execution_count": 4,
   "id": "9022b55f",
   "metadata": {
    "execution": {
     "iopub.execute_input": "2022-10-19T16:39:58.213710Z",
     "iopub.status.busy": "2022-10-19T16:39:58.213240Z",
     "iopub.status.idle": "2022-10-19T16:39:58.218376Z",
     "shell.execute_reply": "2022-10-19T16:39:58.217187Z"
    },
    "papermill": {
     "duration": 0.014899,
     "end_time": "2022-10-19T16:39:58.221123",
     "exception": false,
     "start_time": "2022-10-19T16:39:58.206224",
     "status": "completed"
    },
    "tags": []
   },
   "outputs": [],
   "source": [
    "# Lines below will give you a hint or solution code\n",
    "#step_1.a.hint()\n",
    "#step_1.a.solution()"
   ]
  },
  {
   "cell_type": "markdown",
   "id": "90078f96",
   "metadata": {
    "papermill": {
     "duration": 0.005251,
     "end_time": "2022-10-19T16:39:58.231918",
     "exception": false,
     "start_time": "2022-10-19T16:39:58.226667",
     "status": "completed"
    },
    "tags": []
   },
   "source": [
    "### Part B\n",
    "\n",
    "Set `predictions_1` to the model's predictions for the validation data.  Recall that the validation features are stored in `X_valid`."
   ]
  },
  {
   "cell_type": "code",
   "execution_count": 5,
   "id": "e7089e42",
   "metadata": {
    "execution": {
     "iopub.execute_input": "2022-10-19T16:39:58.244377Z",
     "iopub.status.busy": "2022-10-19T16:39:58.243925Z",
     "iopub.status.idle": "2022-10-19T16:39:58.267823Z",
     "shell.execute_reply": "2022-10-19T16:39:58.266787Z"
    },
    "papermill": {
     "duration": 0.032918,
     "end_time": "2022-10-19T16:39:58.270236",
     "exception": false,
     "start_time": "2022-10-19T16:39:58.237318",
     "status": "completed"
    },
    "tags": []
   },
   "outputs": [
    {
     "data": {
      "application/javascript": [
       "parent.postMessage({\"jupyterEvent\": \"custom.exercise_interaction\", \"data\": {\"outcomeType\": 1, \"valueTowardsCompletion\": 0.5, \"interactionType\": 1, \"questionType\": 2, \"questionId\": \"1.2_Model1B\", \"learnToolsVersion\": \"0.3.4\", \"failureMessage\": \"\", \"exceptionClass\": \"\", \"trace\": \"\"}}, \"*\")"
      ],
      "text/plain": [
       "<IPython.core.display.Javascript object>"
      ]
     },
     "metadata": {},
     "output_type": "display_data"
    },
    {
     "data": {
      "text/markdown": [
       "<span style=\"color:#33cc33\">Correct</span>"
      ],
      "text/plain": [
       "Correct"
      ]
     },
     "metadata": {},
     "output_type": "display_data"
    }
   ],
   "source": [
    "from sklearn.metrics import mean_absolute_error\n",
    "\n",
    "# Get predictions\n",
    "predictions_1 = my_model_1.predict(X_valid)\n",
    "\n",
    "# Check your answer\n",
    "step_1.b.check()"
   ]
  },
  {
   "cell_type": "code",
   "execution_count": 6,
   "id": "bb60d0e2",
   "metadata": {
    "execution": {
     "iopub.execute_input": "2022-10-19T16:39:58.284134Z",
     "iopub.status.busy": "2022-10-19T16:39:58.283740Z",
     "iopub.status.idle": "2022-10-19T16:39:58.288363Z",
     "shell.execute_reply": "2022-10-19T16:39:58.287291Z"
    },
    "papermill": {
     "duration": 0.013946,
     "end_time": "2022-10-19T16:39:58.290809",
     "exception": false,
     "start_time": "2022-10-19T16:39:58.276863",
     "status": "completed"
    },
    "tags": []
   },
   "outputs": [],
   "source": [
    "# Lines below will give you a hint or solution code\n",
    "#step_1.b.hint()\n",
    "#step_1.b.solution()"
   ]
  },
  {
   "cell_type": "markdown",
   "id": "0dc21d80",
   "metadata": {
    "papermill": {
     "duration": 0.00548,
     "end_time": "2022-10-19T16:39:58.302154",
     "exception": false,
     "start_time": "2022-10-19T16:39:58.296674",
     "status": "completed"
    },
    "tags": []
   },
   "source": [
    "### Part C\n",
    "\n",
    "Finally, use the `mean_absolute_error()` function to calculate the mean absolute error (MAE) corresponding to the predictions for the validation set.  Recall that the labels for the validation data are stored in `y_valid`."
   ]
  },
  {
   "cell_type": "code",
   "execution_count": 7,
   "id": "d1be9d71",
   "metadata": {
    "execution": {
     "iopub.execute_input": "2022-10-19T16:39:58.316609Z",
     "iopub.status.busy": "2022-10-19T16:39:58.316205Z",
     "iopub.status.idle": "2022-10-19T16:39:58.327042Z",
     "shell.execute_reply": "2022-10-19T16:39:58.325605Z"
    },
    "papermill": {
     "duration": 0.020556,
     "end_time": "2022-10-19T16:39:58.329479",
     "exception": false,
     "start_time": "2022-10-19T16:39:58.308923",
     "status": "completed"
    },
    "tags": []
   },
   "outputs": [
    {
     "name": "stdout",
     "output_type": "stream",
     "text": [
      "Mean Absolute Error: 17662.736729452055\n"
     ]
    },
    {
     "data": {
      "application/javascript": [
       "parent.postMessage({\"jupyterEvent\": \"custom.exercise_interaction\", \"data\": {\"outcomeType\": 1, \"valueTowardsCompletion\": 0.5, \"interactionType\": 1, \"questionType\": 2, \"questionId\": \"1.3_Model1C\", \"learnToolsVersion\": \"0.3.4\", \"failureMessage\": \"\", \"exceptionClass\": \"\", \"trace\": \"\"}}, \"*\")"
      ],
      "text/plain": [
       "<IPython.core.display.Javascript object>"
      ]
     },
     "metadata": {},
     "output_type": "display_data"
    },
    {
     "data": {
      "text/markdown": [
       "<span style=\"color:#33cc33\">Correct</span>"
      ],
      "text/plain": [
       "Correct"
      ]
     },
     "metadata": {},
     "output_type": "display_data"
    }
   ],
   "source": [
    "# Calculate MAE\n",
    "mae_1 = mean_absolute_error(predictions_1,y_valid)\n",
    "\n",
    "# Uncomment to print MAE\n",
    "print(\"Mean Absolute Error:\" , mae_1)\n",
    "\n",
    "# Check your answer\n",
    "step_1.c.check()"
   ]
  },
  {
   "cell_type": "code",
   "execution_count": 8,
   "id": "15c359b4",
   "metadata": {
    "execution": {
     "iopub.execute_input": "2022-10-19T16:39:58.343821Z",
     "iopub.status.busy": "2022-10-19T16:39:58.343158Z",
     "iopub.status.idle": "2022-10-19T16:39:58.346959Z",
     "shell.execute_reply": "2022-10-19T16:39:58.346108Z"
    },
    "papermill": {
     "duration": 0.013701,
     "end_time": "2022-10-19T16:39:58.349226",
     "exception": false,
     "start_time": "2022-10-19T16:39:58.335525",
     "status": "completed"
    },
    "tags": []
   },
   "outputs": [],
   "source": [
    "# Lines below will give you a hint or solution code\n",
    "#step_1.c.hint()\n",
    "#step_1.c.solution()"
   ]
  },
  {
   "cell_type": "markdown",
   "id": "a961ed10",
   "metadata": {
    "papermill": {
     "duration": 0.006224,
     "end_time": "2022-10-19T16:39:58.361867",
     "exception": false,
     "start_time": "2022-10-19T16:39:58.355643",
     "status": "completed"
    },
    "tags": []
   },
   "source": [
    "# Step 2: Improve the model\n",
    "\n",
    "Now that you've trained a default model as baseline, it's time to tinker with the parameters, to see if you can get better performance!\n",
    "- Begin by setting `my_model_2` to an XGBoost model, using the [XGBRegressor](https://xgboost.readthedocs.io/en/latest/python/python_api.html#xgboost.XGBRegressor) class.  Use what you learned in the previous tutorial to figure out how to change the default parameters (like `n_estimators` and `learning_rate`) to get better results.\n",
    "- Then, fit the model to the training data in `X_train` and `y_train`.\n",
    "- Set `predictions_2` to the model's predictions for the validation data.  Recall that the validation features are stored in `X_valid`.\n",
    "- Finally, use the `mean_absolute_error()` function to calculate the mean absolute error (MAE) corresponding to the predictions on the validation set.  Recall that the labels for the validation data are stored in `y_valid`.\n",
    "\n",
    "In order for this step to be marked correct, your model in `my_model_2` must attain lower MAE than the model in `my_model_1`. "
   ]
  },
  {
   "cell_type": "code",
   "execution_count": 9,
   "id": "c37cb486",
   "metadata": {
    "execution": {
     "iopub.execute_input": "2022-10-19T16:39:58.376060Z",
     "iopub.status.busy": "2022-10-19T16:39:58.375194Z",
     "iopub.status.idle": "2022-10-19T16:40:07.793292Z",
     "shell.execute_reply": "2022-10-19T16:40:07.791732Z"
    },
    "papermill": {
     "duration": 9.427646,
     "end_time": "2022-10-19T16:40:07.795555",
     "exception": false,
     "start_time": "2022-10-19T16:39:58.367909",
     "status": "completed"
    },
    "tags": []
   },
   "outputs": [
    {
     "name": "stdout",
     "output_type": "stream",
     "text": [
      "Mean Absolute Error: 16688.691513270547\n"
     ]
    },
    {
     "data": {
      "application/javascript": [
       "parent.postMessage({\"jupyterEvent\": \"custom.exercise_interaction\", \"data\": {\"outcomeType\": 1, \"valueTowardsCompletion\": 0.5, \"interactionType\": 1, \"questionType\": 2, \"questionId\": \"2_Model2\", \"learnToolsVersion\": \"0.3.4\", \"failureMessage\": \"\", \"exceptionClass\": \"\", \"trace\": \"\"}}, \"*\")"
      ],
      "text/plain": [
       "<IPython.core.display.Javascript object>"
      ]
     },
     "metadata": {},
     "output_type": "display_data"
    },
    {
     "data": {
      "text/markdown": [
       "<span style=\"color:#33cc33\">Correct</span>"
      ],
      "text/plain": [
       "Correct"
      ]
     },
     "metadata": {},
     "output_type": "display_data"
    }
   ],
   "source": [
    "# Define the model\n",
    "my_model_2 = XGBRegressor(n_estimators=1000,learning_rate=0.05)\n",
    "\n",
    "# Fit the model\n",
    "my_model_2.fit(X_train,y_train)\n",
    "\n",
    "# Get predictions\n",
    "predictions_2 = my_model_2.predict(X_valid)\n",
    "\n",
    "# Calculate MAE\n",
    "mae_2 = mean_absolute_error(predictions_2,y_valid)\n",
    "\n",
    "# Uncomment to print MAE\n",
    "print(\"Mean Absolute Error:\" , mae_2)\n",
    "\n",
    "# Check your answer\n",
    "step_2.check()"
   ]
  },
  {
   "cell_type": "code",
   "execution_count": 10,
   "id": "037efd43",
   "metadata": {
    "execution": {
     "iopub.execute_input": "2022-10-19T16:40:07.811128Z",
     "iopub.status.busy": "2022-10-19T16:40:07.810762Z",
     "iopub.status.idle": "2022-10-19T16:40:07.814546Z",
     "shell.execute_reply": "2022-10-19T16:40:07.813663Z"
    },
    "papermill": {
     "duration": 0.013948,
     "end_time": "2022-10-19T16:40:07.817046",
     "exception": false,
     "start_time": "2022-10-19T16:40:07.803098",
     "status": "completed"
    },
    "tags": []
   },
   "outputs": [],
   "source": [
    "# Lines below will give you a hint or solution code\n",
    "#step_2.hint()\n",
    "#step_2.solution()"
   ]
  },
  {
   "cell_type": "markdown",
   "id": "1f48f23e",
   "metadata": {
    "papermill": {
     "duration": 0.006162,
     "end_time": "2022-10-19T16:40:07.829906",
     "exception": false,
     "start_time": "2022-10-19T16:40:07.823744",
     "status": "completed"
    },
    "tags": []
   },
   "source": [
    "# Step 3: Break the model\n",
    "\n",
    "In this step, you will create a model that performs worse than the original model in Step 1.  This will help you to develop your intuition for how to set parameters.  You might even find that you accidentally get better performance, which is ultimately a nice problem to have and a valuable learning experience!\n",
    "- Begin by setting `my_model_3` to an XGBoost model, using the [XGBRegressor](https://xgboost.readthedocs.io/en/latest/python/python_api.html#xgboost.XGBRegressor) class.  Use what you learned in the previous tutorial to figure out how to change the default parameters (like `n_estimators` and `learning_rate`) to design a model to get high MAE.\n",
    "- Then, fit the model to the training data in `X_train` and `y_train`.\n",
    "- Set `predictions_3` to the model's predictions for the validation data.  Recall that the validation features are stored in `X_valid`.\n",
    "- Finally, use the `mean_absolute_error()` function to calculate the mean absolute error (MAE) corresponding to the predictions on the validation set.  Recall that the labels for the validation data are stored in `y_valid`.\n",
    "\n",
    "In order for this step to be marked correct, your model in `my_model_3` must attain higher MAE than the model in `my_model_1`. "
   ]
  },
  {
   "cell_type": "code",
   "execution_count": 11,
   "id": "c1401860",
   "metadata": {
    "execution": {
     "iopub.execute_input": "2022-10-19T16:40:07.844286Z",
     "iopub.status.busy": "2022-10-19T16:40:07.843880Z",
     "iopub.status.idle": "2022-10-19T16:40:07.908381Z",
     "shell.execute_reply": "2022-10-19T16:40:07.907237Z"
    },
    "papermill": {
     "duration": 0.074552,
     "end_time": "2022-10-19T16:40:07.910651",
     "exception": false,
     "start_time": "2022-10-19T16:40:07.836099",
     "status": "completed"
    },
    "tags": []
   },
   "outputs": [
    {
     "name": "stdout",
     "output_type": "stream",
     "text": [
      "Mean Absolute Error: 127895.0828807256\n"
     ]
    },
    {
     "data": {
      "application/javascript": [
       "parent.postMessage({\"jupyterEvent\": \"custom.exercise_interaction\", \"data\": {\"outcomeType\": 1, \"valueTowardsCompletion\": 0.5, \"interactionType\": 1, \"questionType\": 2, \"questionId\": \"3_Model3\", \"learnToolsVersion\": \"0.3.4\", \"failureMessage\": \"\", \"exceptionClass\": \"\", \"trace\": \"\"}}, \"*\")"
      ],
      "text/plain": [
       "<IPython.core.display.Javascript object>"
      ]
     },
     "metadata": {},
     "output_type": "display_data"
    },
    {
     "data": {
      "text/markdown": [
       "<span style=\"color:#33cc33\">Correct</span>"
      ],
      "text/plain": [
       "Correct"
      ]
     },
     "metadata": {},
     "output_type": "display_data"
    }
   ],
   "source": [
    "# Define the model\n",
    "my_model_3 = XGBRegressor(n_estimators=1)\n",
    "\n",
    "# Fit the model\n",
    "my_model_3.fit(X_train,y_train)\n",
    "\n",
    "# Get predictions\n",
    "predictions_3 = my_model_3.predict(X_valid)\n",
    "\n",
    "# Calculate MAE\n",
    "mae_3 = mean_absolute_error(predictions_3,y_valid)\n",
    "\n",
    "# Uncomment to print MAE\n",
    "print(\"Mean Absolute Error:\" , mae_3)\n",
    "\n",
    "# Check your answer\n",
    "step_3.check()"
   ]
  },
  {
   "cell_type": "code",
   "execution_count": 12,
   "id": "7f614746",
   "metadata": {
    "execution": {
     "iopub.execute_input": "2022-10-19T16:40:07.929050Z",
     "iopub.status.busy": "2022-10-19T16:40:07.927747Z",
     "iopub.status.idle": "2022-10-19T16:40:07.932172Z",
     "shell.execute_reply": "2022-10-19T16:40:07.931376Z"
    },
    "papermill": {
     "duration": 0.01571,
     "end_time": "2022-10-19T16:40:07.934178",
     "exception": false,
     "start_time": "2022-10-19T16:40:07.918468",
     "status": "completed"
    },
    "tags": []
   },
   "outputs": [],
   "source": [
    "# Lines below will give you a hint or solution code\n",
    "#step_3.hint()\n",
    "#step_3.solution()"
   ]
  },
  {
   "cell_type": "markdown",
   "id": "36abe646",
   "metadata": {
    "papermill": {
     "duration": 0.006552,
     "end_time": "2022-10-19T16:40:07.947342",
     "exception": false,
     "start_time": "2022-10-19T16:40:07.940790",
     "status": "completed"
    },
    "tags": []
   },
   "source": [
    "# Keep going\n",
    "\n",
    "Continue to learn about **[data leakage](https://www.kaggle.com/alexisbcook/data-leakage)**.  This is an important issue for a data scientist to understand, and it has the potential to ruin your models in subtle and dangerous ways!"
   ]
  },
  {
   "cell_type": "markdown",
   "id": "e064746a",
   "metadata": {
    "papermill": {
     "duration": 0.00629,
     "end_time": "2022-10-19T16:40:07.960556",
     "exception": false,
     "start_time": "2022-10-19T16:40:07.954266",
     "status": "completed"
    },
    "tags": []
   },
   "source": [
    "---\n",
    "\n",
    "\n",
    "\n",
    "\n",
    "*Have questions or comments? Visit the [course discussion forum](https://www.kaggle.com/learn/intermediate-machine-learning/discussion) to chat with other learners.*"
   ]
  }
 ],
 "metadata": {
  "kernelspec": {
   "display_name": "Python 3",
   "language": "python",
   "name": "python3"
  },
  "language_info": {
   "codemirror_mode": {
    "name": "ipython",
    "version": 3
   },
   "file_extension": ".py",
   "mimetype": "text/x-python",
   "name": "python",
   "nbconvert_exporter": "python",
   "pygments_lexer": "ipython3",
   "version": "3.7.12"
  },
  "papermill": {
   "default_parameters": {},
   "duration": 24.145835,
   "end_time": "2022-10-19T16:40:08.689462",
   "environment_variables": {},
   "exception": null,
   "input_path": "__notebook__.ipynb",
   "output_path": "__notebook__.ipynb",
   "parameters": {},
   "start_time": "2022-10-19T16:39:44.543627",
   "version": "2.3.4"
  }
 },
 "nbformat": 4,
 "nbformat_minor": 5
}
